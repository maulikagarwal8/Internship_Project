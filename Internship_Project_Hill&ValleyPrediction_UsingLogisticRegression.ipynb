{
  "nbformat": 4,
  "nbformat_minor": 0,
  "metadata": {
    "colab": {
      "provenance": [],
      "collapsed_sections": [
        "C125fRtdzbgR",
        "1Z4453pNzvUI",
        "MpCbLS8n0aKA",
        "iwI7hAqjDCiD",
        "3Gt8NR6Z0-vw",
        "0yDhB8aP4Q8P",
        "YrtKjqeg5Q_u",
        "wFHV1q_m6OEe",
        "yp3xkMqz7Q82",
        "xfEtw3PS9m3g"
      ]
    },
    "kernelspec": {
      "name": "python3",
      "display_name": "Python 3"
    },
    "language_info": {
      "name": "python"
    }
  },
  "cells": [
    {
      "cell_type": "markdown",
      "source": [
        "#**Title of the Project**\n",
        "Hill and Valley Prediction using Logistic Regression"
      ],
      "metadata": {
        "id": "0hSgLQwmytAh"
      }
    },
    {
      "cell_type": "markdown",
      "source": [
        "---------"
      ],
      "metadata": {
        "id": "HNdcr_5HPvfH"
      }
    },
    {
      "cell_type": "markdown",
      "source": [
        "## **Objective**\n",
        "Our main objective is to use feature variables and predict the target variable.\\\n",
        "Here our target variable(Y) is 'Class' column representing Hill/Valley by 1/0 respectuvely.\\\n",
        "And rest of the columns are the feature variables(X)."
      ],
      "metadata": {
        "id": "Nr-Y85Zs-f3m"
      }
    },
    {
      "cell_type": "markdown",
      "source": [
        "## **Data Source**\n",
        "Each record represents 100 points on a two dimensional graph.When plotted in order (from 1 to 100) as the Y-Coordinate the points will create either a Hill (a 'bump' in terrain) or a Valley (a 'dip' in terrain).\\\n",
        "**1-100**->Labelled \"V#\".Floating Point Values(numeric), the X-values\\\n",
        "**101**->Labelled \"Class\".Binary{0,1} representing {valley,hill}"
      ],
      "metadata": {
        "id": "SgPawLfmzCpC"
      }
    },
    {
      "cell_type": "markdown",
      "source": [
        "##**Import Library**"
      ],
      "metadata": {
        "id": "C125fRtdzbgR"
      }
    },
    {
      "cell_type": "code",
      "source": [
        "import numpy as np\n",
        "import pandas as pd"
      ],
      "metadata": {
        "id": "Ye8zSdYtziJB"
      },
      "execution_count": 1,
      "outputs": []
    },
    {
      "cell_type": "markdown",
      "source": [
        "## **Import Data**"
      ],
      "metadata": {
        "id": "1Z4453pNzvUI"
      }
    },
    {
      "cell_type": "code",
      "source": [
        "df=pd.read_csv('https://github.com/YBIFoundation/Dataset/raw/main/Hill%20Valley%20Dataset.csv')"
      ],
      "metadata": {
        "id": "Tg2NA2QAzyuw"
      },
      "execution_count": 2,
      "outputs": []
    },
    {
      "cell_type": "markdown",
      "source": [
        "## **Describe Data**"
      ],
      "metadata": {
        "id": "MpCbLS8n0aKA"
      }
    },
    {
      "cell_type": "code",
      "source": [
        "df.head()"
      ],
      "metadata": {
        "colab": {
          "base_uri": "https://localhost:8080/",
          "height": 255
        },
        "collapsed": true,
        "id": "5yl547Pp0esw",
        "outputId": "5d65f99a-5daf-41a9-d2ad-7e34e0cb46ed"
      },
      "execution_count": 3,
      "outputs": [
        {
          "output_type": "execute_result",
          "data": {
            "text/plain": [
              "         V1        V2        V3        V4        V5        V6        V7  \\\n",
              "0     39.02     36.49     38.20     38.85     39.38     39.74     37.02   \n",
              "1      1.83      1.71      1.77      1.77      1.68      1.78      1.80   \n",
              "2  68177.69  66138.42  72981.88  74304.33  67549.66  69367.34  69169.41   \n",
              "3  44889.06  39191.86  40728.46  38576.36  45876.06  47034.00  46611.43   \n",
              "4      5.70      5.40      5.28      5.38      5.27      5.61      6.00   \n",
              "\n",
              "         V8        V9       V10  ...       V92       V93       V94       V95  \\\n",
              "0     39.53     38.81     38.79  ...     36.62     36.92     38.80     38.52   \n",
              "1      1.70      1.75      1.78  ...      1.80      1.79      1.77      1.74   \n",
              "2  73268.61  74465.84  72503.37  ...  73438.88  71053.35  71112.62  74916.48   \n",
              "3  37668.32  40980.89  38466.15  ...  42625.67  40684.20  46960.73  44546.80   \n",
              "4      5.38      5.34      5.87  ...      5.17      5.67      5.60      5.94   \n",
              "\n",
              "        V96       V97       V98       V99      V100  Class  \n",
              "0     38.07     36.73     39.46     37.50     39.10      0  \n",
              "1      1.74      1.80      1.78      1.75      1.69      1  \n",
              "2  72571.58  66348.97  71063.72  67404.27  74920.24      1  \n",
              "3  45410.53  47139.44  43095.68  40888.34  39615.19      0  \n",
              "4      5.73      5.22      5.30      5.73      5.91      0  \n",
              "\n",
              "[5 rows x 101 columns]"
            ],
            "text/html": [
              "\n",
              "  <div id=\"df-7b719d5a-4e36-430c-9cca-7b18feb571ac\" class=\"colab-df-container\">\n",
              "    <div>\n",
              "<style scoped>\n",
              "    .dataframe tbody tr th:only-of-type {\n",
              "        vertical-align: middle;\n",
              "    }\n",
              "\n",
              "    .dataframe tbody tr th {\n",
              "        vertical-align: top;\n",
              "    }\n",
              "\n",
              "    .dataframe thead th {\n",
              "        text-align: right;\n",
              "    }\n",
              "</style>\n",
              "<table border=\"1\" class=\"dataframe\">\n",
              "  <thead>\n",
              "    <tr style=\"text-align: right;\">\n",
              "      <th></th>\n",
              "      <th>V1</th>\n",
              "      <th>V2</th>\n",
              "      <th>V3</th>\n",
              "      <th>V4</th>\n",
              "      <th>V5</th>\n",
              "      <th>V6</th>\n",
              "      <th>V7</th>\n",
              "      <th>V8</th>\n",
              "      <th>V9</th>\n",
              "      <th>V10</th>\n",
              "      <th>...</th>\n",
              "      <th>V92</th>\n",
              "      <th>V93</th>\n",
              "      <th>V94</th>\n",
              "      <th>V95</th>\n",
              "      <th>V96</th>\n",
              "      <th>V97</th>\n",
              "      <th>V98</th>\n",
              "      <th>V99</th>\n",
              "      <th>V100</th>\n",
              "      <th>Class</th>\n",
              "    </tr>\n",
              "  </thead>\n",
              "  <tbody>\n",
              "    <tr>\n",
              "      <th>0</th>\n",
              "      <td>39.02</td>\n",
              "      <td>36.49</td>\n",
              "      <td>38.20</td>\n",
              "      <td>38.85</td>\n",
              "      <td>39.38</td>\n",
              "      <td>39.74</td>\n",
              "      <td>37.02</td>\n",
              "      <td>39.53</td>\n",
              "      <td>38.81</td>\n",
              "      <td>38.79</td>\n",
              "      <td>...</td>\n",
              "      <td>36.62</td>\n",
              "      <td>36.92</td>\n",
              "      <td>38.80</td>\n",
              "      <td>38.52</td>\n",
              "      <td>38.07</td>\n",
              "      <td>36.73</td>\n",
              "      <td>39.46</td>\n",
              "      <td>37.50</td>\n",
              "      <td>39.10</td>\n",
              "      <td>0</td>\n",
              "    </tr>\n",
              "    <tr>\n",
              "      <th>1</th>\n",
              "      <td>1.83</td>\n",
              "      <td>1.71</td>\n",
              "      <td>1.77</td>\n",
              "      <td>1.77</td>\n",
              "      <td>1.68</td>\n",
              "      <td>1.78</td>\n",
              "      <td>1.80</td>\n",
              "      <td>1.70</td>\n",
              "      <td>1.75</td>\n",
              "      <td>1.78</td>\n",
              "      <td>...</td>\n",
              "      <td>1.80</td>\n",
              "      <td>1.79</td>\n",
              "      <td>1.77</td>\n",
              "      <td>1.74</td>\n",
              "      <td>1.74</td>\n",
              "      <td>1.80</td>\n",
              "      <td>1.78</td>\n",
              "      <td>1.75</td>\n",
              "      <td>1.69</td>\n",
              "      <td>1</td>\n",
              "    </tr>\n",
              "    <tr>\n",
              "      <th>2</th>\n",
              "      <td>68177.69</td>\n",
              "      <td>66138.42</td>\n",
              "      <td>72981.88</td>\n",
              "      <td>74304.33</td>\n",
              "      <td>67549.66</td>\n",
              "      <td>69367.34</td>\n",
              "      <td>69169.41</td>\n",
              "      <td>73268.61</td>\n",
              "      <td>74465.84</td>\n",
              "      <td>72503.37</td>\n",
              "      <td>...</td>\n",
              "      <td>73438.88</td>\n",
              "      <td>71053.35</td>\n",
              "      <td>71112.62</td>\n",
              "      <td>74916.48</td>\n",
              "      <td>72571.58</td>\n",
              "      <td>66348.97</td>\n",
              "      <td>71063.72</td>\n",
              "      <td>67404.27</td>\n",
              "      <td>74920.24</td>\n",
              "      <td>1</td>\n",
              "    </tr>\n",
              "    <tr>\n",
              "      <th>3</th>\n",
              "      <td>44889.06</td>\n",
              "      <td>39191.86</td>\n",
              "      <td>40728.46</td>\n",
              "      <td>38576.36</td>\n",
              "      <td>45876.06</td>\n",
              "      <td>47034.00</td>\n",
              "      <td>46611.43</td>\n",
              "      <td>37668.32</td>\n",
              "      <td>40980.89</td>\n",
              "      <td>38466.15</td>\n",
              "      <td>...</td>\n",
              "      <td>42625.67</td>\n",
              "      <td>40684.20</td>\n",
              "      <td>46960.73</td>\n",
              "      <td>44546.80</td>\n",
              "      <td>45410.53</td>\n",
              "      <td>47139.44</td>\n",
              "      <td>43095.68</td>\n",
              "      <td>40888.34</td>\n",
              "      <td>39615.19</td>\n",
              "      <td>0</td>\n",
              "    </tr>\n",
              "    <tr>\n",
              "      <th>4</th>\n",
              "      <td>5.70</td>\n",
              "      <td>5.40</td>\n",
              "      <td>5.28</td>\n",
              "      <td>5.38</td>\n",
              "      <td>5.27</td>\n",
              "      <td>5.61</td>\n",
              "      <td>6.00</td>\n",
              "      <td>5.38</td>\n",
              "      <td>5.34</td>\n",
              "      <td>5.87</td>\n",
              "      <td>...</td>\n",
              "      <td>5.17</td>\n",
              "      <td>5.67</td>\n",
              "      <td>5.60</td>\n",
              "      <td>5.94</td>\n",
              "      <td>5.73</td>\n",
              "      <td>5.22</td>\n",
              "      <td>5.30</td>\n",
              "      <td>5.73</td>\n",
              "      <td>5.91</td>\n",
              "      <td>0</td>\n",
              "    </tr>\n",
              "  </tbody>\n",
              "</table>\n",
              "<p>5 rows × 101 columns</p>\n",
              "</div>\n",
              "    <div class=\"colab-df-buttons\">\n",
              "\n",
              "  <div class=\"colab-df-container\">\n",
              "    <button class=\"colab-df-convert\" onclick=\"convertToInteractive('df-7b719d5a-4e36-430c-9cca-7b18feb571ac')\"\n",
              "            title=\"Convert this dataframe to an interactive table.\"\n",
              "            style=\"display:none;\">\n",
              "\n",
              "  <svg xmlns=\"http://www.w3.org/2000/svg\" height=\"24px\" viewBox=\"0 -960 960 960\">\n",
              "    <path d=\"M120-120v-720h720v720H120Zm60-500h600v-160H180v160Zm220 220h160v-160H400v160Zm0 220h160v-160H400v160ZM180-400h160v-160H180v160Zm440 0h160v-160H620v160ZM180-180h160v-160H180v160Zm440 0h160v-160H620v160Z\"/>\n",
              "  </svg>\n",
              "    </button>\n",
              "\n",
              "  <style>\n",
              "    .colab-df-container {\n",
              "      display:flex;\n",
              "      gap: 12px;\n",
              "    }\n",
              "\n",
              "    .colab-df-convert {\n",
              "      background-color: #E8F0FE;\n",
              "      border: none;\n",
              "      border-radius: 50%;\n",
              "      cursor: pointer;\n",
              "      display: none;\n",
              "      fill: #1967D2;\n",
              "      height: 32px;\n",
              "      padding: 0 0 0 0;\n",
              "      width: 32px;\n",
              "    }\n",
              "\n",
              "    .colab-df-convert:hover {\n",
              "      background-color: #E2EBFA;\n",
              "      box-shadow: 0px 1px 2px rgba(60, 64, 67, 0.3), 0px 1px 3px 1px rgba(60, 64, 67, 0.15);\n",
              "      fill: #174EA6;\n",
              "    }\n",
              "\n",
              "    .colab-df-buttons div {\n",
              "      margin-bottom: 4px;\n",
              "    }\n",
              "\n",
              "    [theme=dark] .colab-df-convert {\n",
              "      background-color: #3B4455;\n",
              "      fill: #D2E3FC;\n",
              "    }\n",
              "\n",
              "    [theme=dark] .colab-df-convert:hover {\n",
              "      background-color: #434B5C;\n",
              "      box-shadow: 0px 1px 3px 1px rgba(0, 0, 0, 0.15);\n",
              "      filter: drop-shadow(0px 1px 2px rgba(0, 0, 0, 0.3));\n",
              "      fill: #FFFFFF;\n",
              "    }\n",
              "  </style>\n",
              "\n",
              "    <script>\n",
              "      const buttonEl =\n",
              "        document.querySelector('#df-7b719d5a-4e36-430c-9cca-7b18feb571ac button.colab-df-convert');\n",
              "      buttonEl.style.display =\n",
              "        google.colab.kernel.accessAllowed ? 'block' : 'none';\n",
              "\n",
              "      async function convertToInteractive(key) {\n",
              "        const element = document.querySelector('#df-7b719d5a-4e36-430c-9cca-7b18feb571ac');\n",
              "        const dataTable =\n",
              "          await google.colab.kernel.invokeFunction('convertToInteractive',\n",
              "                                                    [key], {});\n",
              "        if (!dataTable) return;\n",
              "\n",
              "        const docLinkHtml = 'Like what you see? Visit the ' +\n",
              "          '<a target=\"_blank\" href=https://colab.research.google.com/notebooks/data_table.ipynb>data table notebook</a>'\n",
              "          + ' to learn more about interactive tables.';\n",
              "        element.innerHTML = '';\n",
              "        dataTable['output_type'] = 'display_data';\n",
              "        await google.colab.output.renderOutput(dataTable, element);\n",
              "        const docLink = document.createElement('div');\n",
              "        docLink.innerHTML = docLinkHtml;\n",
              "        element.appendChild(docLink);\n",
              "      }\n",
              "    </script>\n",
              "  </div>\n",
              "\n",
              "\n",
              "<div id=\"df-1b656cad-80b1-44f4-a79b-d5234c3bb440\">\n",
              "  <button class=\"colab-df-quickchart\" onclick=\"quickchart('df-1b656cad-80b1-44f4-a79b-d5234c3bb440')\"\n",
              "            title=\"Suggest charts\"\n",
              "            style=\"display:none;\">\n",
              "\n",
              "<svg xmlns=\"http://www.w3.org/2000/svg\" height=\"24px\"viewBox=\"0 0 24 24\"\n",
              "     width=\"24px\">\n",
              "    <g>\n",
              "        <path d=\"M19 3H5c-1.1 0-2 .9-2 2v14c0 1.1.9 2 2 2h14c1.1 0 2-.9 2-2V5c0-1.1-.9-2-2-2zM9 17H7v-7h2v7zm4 0h-2V7h2v10zm4 0h-2v-4h2v4z\"/>\n",
              "    </g>\n",
              "</svg>\n",
              "  </button>\n",
              "\n",
              "<style>\n",
              "  .colab-df-quickchart {\n",
              "      --bg-color: #E8F0FE;\n",
              "      --fill-color: #1967D2;\n",
              "      --hover-bg-color: #E2EBFA;\n",
              "      --hover-fill-color: #174EA6;\n",
              "      --disabled-fill-color: #AAA;\n",
              "      --disabled-bg-color: #DDD;\n",
              "  }\n",
              "\n",
              "  [theme=dark] .colab-df-quickchart {\n",
              "      --bg-color: #3B4455;\n",
              "      --fill-color: #D2E3FC;\n",
              "      --hover-bg-color: #434B5C;\n",
              "      --hover-fill-color: #FFFFFF;\n",
              "      --disabled-bg-color: #3B4455;\n",
              "      --disabled-fill-color: #666;\n",
              "  }\n",
              "\n",
              "  .colab-df-quickchart {\n",
              "    background-color: var(--bg-color);\n",
              "    border: none;\n",
              "    border-radius: 50%;\n",
              "    cursor: pointer;\n",
              "    display: none;\n",
              "    fill: var(--fill-color);\n",
              "    height: 32px;\n",
              "    padding: 0;\n",
              "    width: 32px;\n",
              "  }\n",
              "\n",
              "  .colab-df-quickchart:hover {\n",
              "    background-color: var(--hover-bg-color);\n",
              "    box-shadow: 0 1px 2px rgba(60, 64, 67, 0.3), 0 1px 3px 1px rgba(60, 64, 67, 0.15);\n",
              "    fill: var(--button-hover-fill-color);\n",
              "  }\n",
              "\n",
              "  .colab-df-quickchart-complete:disabled,\n",
              "  .colab-df-quickchart-complete:disabled:hover {\n",
              "    background-color: var(--disabled-bg-color);\n",
              "    fill: var(--disabled-fill-color);\n",
              "    box-shadow: none;\n",
              "  }\n",
              "\n",
              "  .colab-df-spinner {\n",
              "    border: 2px solid var(--fill-color);\n",
              "    border-color: transparent;\n",
              "    border-bottom-color: var(--fill-color);\n",
              "    animation:\n",
              "      spin 1s steps(1) infinite;\n",
              "  }\n",
              "\n",
              "  @keyframes spin {\n",
              "    0% {\n",
              "      border-color: transparent;\n",
              "      border-bottom-color: var(--fill-color);\n",
              "      border-left-color: var(--fill-color);\n",
              "    }\n",
              "    20% {\n",
              "      border-color: transparent;\n",
              "      border-left-color: var(--fill-color);\n",
              "      border-top-color: var(--fill-color);\n",
              "    }\n",
              "    30% {\n",
              "      border-color: transparent;\n",
              "      border-left-color: var(--fill-color);\n",
              "      border-top-color: var(--fill-color);\n",
              "      border-right-color: var(--fill-color);\n",
              "    }\n",
              "    40% {\n",
              "      border-color: transparent;\n",
              "      border-right-color: var(--fill-color);\n",
              "      border-top-color: var(--fill-color);\n",
              "    }\n",
              "    60% {\n",
              "      border-color: transparent;\n",
              "      border-right-color: var(--fill-color);\n",
              "    }\n",
              "    80% {\n",
              "      border-color: transparent;\n",
              "      border-right-color: var(--fill-color);\n",
              "      border-bottom-color: var(--fill-color);\n",
              "    }\n",
              "    90% {\n",
              "      border-color: transparent;\n",
              "      border-bottom-color: var(--fill-color);\n",
              "    }\n",
              "  }\n",
              "</style>\n",
              "\n",
              "  <script>\n",
              "    async function quickchart(key) {\n",
              "      const quickchartButtonEl =\n",
              "        document.querySelector('#' + key + ' button');\n",
              "      quickchartButtonEl.disabled = true;  // To prevent multiple clicks.\n",
              "      quickchartButtonEl.classList.add('colab-df-spinner');\n",
              "      try {\n",
              "        const charts = await google.colab.kernel.invokeFunction(\n",
              "            'suggestCharts', [key], {});\n",
              "      } catch (error) {\n",
              "        console.error('Error during call to suggestCharts:', error);\n",
              "      }\n",
              "      quickchartButtonEl.classList.remove('colab-df-spinner');\n",
              "      quickchartButtonEl.classList.add('colab-df-quickchart-complete');\n",
              "    }\n",
              "    (() => {\n",
              "      let quickchartButtonEl =\n",
              "        document.querySelector('#df-1b656cad-80b1-44f4-a79b-d5234c3bb440 button');\n",
              "      quickchartButtonEl.style.display =\n",
              "        google.colab.kernel.accessAllowed ? 'block' : 'none';\n",
              "    })();\n",
              "  </script>\n",
              "</div>\n",
              "\n",
              "    </div>\n",
              "  </div>\n"
            ],
            "application/vnd.google.colaboratory.intrinsic+json": {
              "type": "dataframe",
              "variable_name": "df"
            }
          },
          "metadata": {},
          "execution_count": 3
        }
      ]
    },
    {
      "cell_type": "code",
      "source": [
        "df.info()"
      ],
      "metadata": {
        "colab": {
          "base_uri": "https://localhost:8080/"
        },
        "collapsed": true,
        "id": "2YhTW2ZG0odQ",
        "outputId": "d5c1db33-59e8-49ca-8722-cd0406e934e7"
      },
      "execution_count": 4,
      "outputs": [
        {
          "output_type": "stream",
          "name": "stdout",
          "text": [
            "<class 'pandas.core.frame.DataFrame'>\n",
            "RangeIndex: 1212 entries, 0 to 1211\n",
            "Columns: 101 entries, V1 to Class\n",
            "dtypes: float64(100), int64(1)\n",
            "memory usage: 956.5 KB\n"
          ]
        }
      ]
    },
    {
      "cell_type": "code",
      "source": [
        "df.describe()"
      ],
      "metadata": {
        "colab": {
          "base_uri": "https://localhost:8080/",
          "height": 349
        },
        "collapsed": true,
        "id": "Fo9JQEpj00fZ",
        "outputId": "310835d7-8b73-4613-bdab-6f066aacffe2"
      },
      "execution_count": 5,
      "outputs": [
        {
          "output_type": "execute_result",
          "data": {
            "text/plain": [
              "                  V1             V2             V3             V4  \\\n",
              "count    1212.000000    1212.000000    1212.000000    1212.000000   \n",
              "mean     8169.091881    8144.306262    8192.653738    8176.868738   \n",
              "std     17974.950461   17881.049734   18087.938901   17991.903982   \n",
              "min         0.920000       0.900000       0.850000       0.890000   \n",
              "25%        19.602500      19.595000      18.925000      19.277500   \n",
              "50%       301.425000     295.205000     297.260000     299.720000   \n",
              "75%      5358.795000    5417.847500    5393.367500    5388.482500   \n",
              "max    117807.870000  108896.480000  119031.350000  110212.590000   \n",
              "\n",
              "                  V5             V6             V7             V8  \\\n",
              "count    1212.000000    1212.000000    1212.000000    1212.000000   \n",
              "mean     8128.297211    8173.030008    8188.582748    8183.641543   \n",
              "std     17846.757963   17927.114105   18029.562695   18048.582159   \n",
              "min         0.880000       0.860000       0.870000       0.650000   \n",
              "25%        19.210000      19.582500      18.690000      19.062500   \n",
              "50%       295.115000     294.380000     295.935000     290.850000   \n",
              "75%      5321.987500    5328.040000    5443.977500    5283.655000   \n",
              "max    113000.470000  116848.390000  115609.240000  118522.320000   \n",
              "\n",
              "                  V9            V10  ...            V92            V93  \\\n",
              "count    1212.000000    1212.000000  ...    1212.000000    1212.000000   \n",
              "mean     8154.670066    8120.767574  ...    8120.056815    8125.917409   \n",
              "std     17982.390713   17900.798206  ...   17773.190621   17758.182403   \n",
              "min         0.650000       0.620000  ...       0.870000       0.900000   \n",
              "25%        19.532500      19.285000  ...      19.197500      18.895000   \n",
              "50%       294.565000     295.160000  ...     297.845000     295.420000   \n",
              "75%      5378.180000    5319.097500  ...    5355.355000    5386.037500   \n",
              "max    112895.900000  117798.300000  ...  113858.680000  112948.830000   \n",
              "\n",
              "                 V94            V95            V96            V97  \\\n",
              "count    1212.000000    1212.000000    1212.000000    1212.000000   \n",
              "mean     8158.793812    8140.885421    8213.480611    8185.594002   \n",
              "std     17919.510371   17817.945646   18016.445265   17956.084223   \n",
              "min         0.870000       0.880000       0.890000       0.890000   \n",
              "25%        19.237500      19.385000      19.027500      19.135000   \n",
              "50%       299.155000     293.355000     301.370000     296.960000   \n",
              "75%      5286.385000    5345.797500    5300.890000    5361.047500   \n",
              "max    112409.570000  112933.730000  112037.220000  115110.420000   \n",
              "\n",
              "                 V98            V99           V100        Class  \n",
              "count    1212.000000    1212.000000    1212.000000  1212.000000  \n",
              "mean     8140.195355    8192.960891    8156.197376     0.500000  \n",
              "std     17768.356106   18064.781479   17829.310973     0.500206  \n",
              "min         0.860000       0.910000       0.890000     0.000000  \n",
              "25%        19.205000      18.812500      19.145000     0.000000  \n",
              "50%       300.925000     299.200000     302.275000     0.500000  \n",
              "75%      5390.850000    5288.712500    5357.847500     1.000000  \n",
              "max    116431.960000  113291.960000  114533.760000     1.000000  \n",
              "\n",
              "[8 rows x 101 columns]"
            ],
            "text/html": [
              "\n",
              "  <div id=\"df-c8525ece-601c-4759-8ac3-1f74e02ff43e\" class=\"colab-df-container\">\n",
              "    <div>\n",
              "<style scoped>\n",
              "    .dataframe tbody tr th:only-of-type {\n",
              "        vertical-align: middle;\n",
              "    }\n",
              "\n",
              "    .dataframe tbody tr th {\n",
              "        vertical-align: top;\n",
              "    }\n",
              "\n",
              "    .dataframe thead th {\n",
              "        text-align: right;\n",
              "    }\n",
              "</style>\n",
              "<table border=\"1\" class=\"dataframe\">\n",
              "  <thead>\n",
              "    <tr style=\"text-align: right;\">\n",
              "      <th></th>\n",
              "      <th>V1</th>\n",
              "      <th>V2</th>\n",
              "      <th>V3</th>\n",
              "      <th>V4</th>\n",
              "      <th>V5</th>\n",
              "      <th>V6</th>\n",
              "      <th>V7</th>\n",
              "      <th>V8</th>\n",
              "      <th>V9</th>\n",
              "      <th>V10</th>\n",
              "      <th>...</th>\n",
              "      <th>V92</th>\n",
              "      <th>V93</th>\n",
              "      <th>V94</th>\n",
              "      <th>V95</th>\n",
              "      <th>V96</th>\n",
              "      <th>V97</th>\n",
              "      <th>V98</th>\n",
              "      <th>V99</th>\n",
              "      <th>V100</th>\n",
              "      <th>Class</th>\n",
              "    </tr>\n",
              "  </thead>\n",
              "  <tbody>\n",
              "    <tr>\n",
              "      <th>count</th>\n",
              "      <td>1212.000000</td>\n",
              "      <td>1212.000000</td>\n",
              "      <td>1212.000000</td>\n",
              "      <td>1212.000000</td>\n",
              "      <td>1212.000000</td>\n",
              "      <td>1212.000000</td>\n",
              "      <td>1212.000000</td>\n",
              "      <td>1212.000000</td>\n",
              "      <td>1212.000000</td>\n",
              "      <td>1212.000000</td>\n",
              "      <td>...</td>\n",
              "      <td>1212.000000</td>\n",
              "      <td>1212.000000</td>\n",
              "      <td>1212.000000</td>\n",
              "      <td>1212.000000</td>\n",
              "      <td>1212.000000</td>\n",
              "      <td>1212.000000</td>\n",
              "      <td>1212.000000</td>\n",
              "      <td>1212.000000</td>\n",
              "      <td>1212.000000</td>\n",
              "      <td>1212.000000</td>\n",
              "    </tr>\n",
              "    <tr>\n",
              "      <th>mean</th>\n",
              "      <td>8169.091881</td>\n",
              "      <td>8144.306262</td>\n",
              "      <td>8192.653738</td>\n",
              "      <td>8176.868738</td>\n",
              "      <td>8128.297211</td>\n",
              "      <td>8173.030008</td>\n",
              "      <td>8188.582748</td>\n",
              "      <td>8183.641543</td>\n",
              "      <td>8154.670066</td>\n",
              "      <td>8120.767574</td>\n",
              "      <td>...</td>\n",
              "      <td>8120.056815</td>\n",
              "      <td>8125.917409</td>\n",
              "      <td>8158.793812</td>\n",
              "      <td>8140.885421</td>\n",
              "      <td>8213.480611</td>\n",
              "      <td>8185.594002</td>\n",
              "      <td>8140.195355</td>\n",
              "      <td>8192.960891</td>\n",
              "      <td>8156.197376</td>\n",
              "      <td>0.500000</td>\n",
              "    </tr>\n",
              "    <tr>\n",
              "      <th>std</th>\n",
              "      <td>17974.950461</td>\n",
              "      <td>17881.049734</td>\n",
              "      <td>18087.938901</td>\n",
              "      <td>17991.903982</td>\n",
              "      <td>17846.757963</td>\n",
              "      <td>17927.114105</td>\n",
              "      <td>18029.562695</td>\n",
              "      <td>18048.582159</td>\n",
              "      <td>17982.390713</td>\n",
              "      <td>17900.798206</td>\n",
              "      <td>...</td>\n",
              "      <td>17773.190621</td>\n",
              "      <td>17758.182403</td>\n",
              "      <td>17919.510371</td>\n",
              "      <td>17817.945646</td>\n",
              "      <td>18016.445265</td>\n",
              "      <td>17956.084223</td>\n",
              "      <td>17768.356106</td>\n",
              "      <td>18064.781479</td>\n",
              "      <td>17829.310973</td>\n",
              "      <td>0.500206</td>\n",
              "    </tr>\n",
              "    <tr>\n",
              "      <th>min</th>\n",
              "      <td>0.920000</td>\n",
              "      <td>0.900000</td>\n",
              "      <td>0.850000</td>\n",
              "      <td>0.890000</td>\n",
              "      <td>0.880000</td>\n",
              "      <td>0.860000</td>\n",
              "      <td>0.870000</td>\n",
              "      <td>0.650000</td>\n",
              "      <td>0.650000</td>\n",
              "      <td>0.620000</td>\n",
              "      <td>...</td>\n",
              "      <td>0.870000</td>\n",
              "      <td>0.900000</td>\n",
              "      <td>0.870000</td>\n",
              "      <td>0.880000</td>\n",
              "      <td>0.890000</td>\n",
              "      <td>0.890000</td>\n",
              "      <td>0.860000</td>\n",
              "      <td>0.910000</td>\n",
              "      <td>0.890000</td>\n",
              "      <td>0.000000</td>\n",
              "    </tr>\n",
              "    <tr>\n",
              "      <th>25%</th>\n",
              "      <td>19.602500</td>\n",
              "      <td>19.595000</td>\n",
              "      <td>18.925000</td>\n",
              "      <td>19.277500</td>\n",
              "      <td>19.210000</td>\n",
              "      <td>19.582500</td>\n",
              "      <td>18.690000</td>\n",
              "      <td>19.062500</td>\n",
              "      <td>19.532500</td>\n",
              "      <td>19.285000</td>\n",
              "      <td>...</td>\n",
              "      <td>19.197500</td>\n",
              "      <td>18.895000</td>\n",
              "      <td>19.237500</td>\n",
              "      <td>19.385000</td>\n",
              "      <td>19.027500</td>\n",
              "      <td>19.135000</td>\n",
              "      <td>19.205000</td>\n",
              "      <td>18.812500</td>\n",
              "      <td>19.145000</td>\n",
              "      <td>0.000000</td>\n",
              "    </tr>\n",
              "    <tr>\n",
              "      <th>50%</th>\n",
              "      <td>301.425000</td>\n",
              "      <td>295.205000</td>\n",
              "      <td>297.260000</td>\n",
              "      <td>299.720000</td>\n",
              "      <td>295.115000</td>\n",
              "      <td>294.380000</td>\n",
              "      <td>295.935000</td>\n",
              "      <td>290.850000</td>\n",
              "      <td>294.565000</td>\n",
              "      <td>295.160000</td>\n",
              "      <td>...</td>\n",
              "      <td>297.845000</td>\n",
              "      <td>295.420000</td>\n",
              "      <td>299.155000</td>\n",
              "      <td>293.355000</td>\n",
              "      <td>301.370000</td>\n",
              "      <td>296.960000</td>\n",
              "      <td>300.925000</td>\n",
              "      <td>299.200000</td>\n",
              "      <td>302.275000</td>\n",
              "      <td>0.500000</td>\n",
              "    </tr>\n",
              "    <tr>\n",
              "      <th>75%</th>\n",
              "      <td>5358.795000</td>\n",
              "      <td>5417.847500</td>\n",
              "      <td>5393.367500</td>\n",
              "      <td>5388.482500</td>\n",
              "      <td>5321.987500</td>\n",
              "      <td>5328.040000</td>\n",
              "      <td>5443.977500</td>\n",
              "      <td>5283.655000</td>\n",
              "      <td>5378.180000</td>\n",
              "      <td>5319.097500</td>\n",
              "      <td>...</td>\n",
              "      <td>5355.355000</td>\n",
              "      <td>5386.037500</td>\n",
              "      <td>5286.385000</td>\n",
              "      <td>5345.797500</td>\n",
              "      <td>5300.890000</td>\n",
              "      <td>5361.047500</td>\n",
              "      <td>5390.850000</td>\n",
              "      <td>5288.712500</td>\n",
              "      <td>5357.847500</td>\n",
              "      <td>1.000000</td>\n",
              "    </tr>\n",
              "    <tr>\n",
              "      <th>max</th>\n",
              "      <td>117807.870000</td>\n",
              "      <td>108896.480000</td>\n",
              "      <td>119031.350000</td>\n",
              "      <td>110212.590000</td>\n",
              "      <td>113000.470000</td>\n",
              "      <td>116848.390000</td>\n",
              "      <td>115609.240000</td>\n",
              "      <td>118522.320000</td>\n",
              "      <td>112895.900000</td>\n",
              "      <td>117798.300000</td>\n",
              "      <td>...</td>\n",
              "      <td>113858.680000</td>\n",
              "      <td>112948.830000</td>\n",
              "      <td>112409.570000</td>\n",
              "      <td>112933.730000</td>\n",
              "      <td>112037.220000</td>\n",
              "      <td>115110.420000</td>\n",
              "      <td>116431.960000</td>\n",
              "      <td>113291.960000</td>\n",
              "      <td>114533.760000</td>\n",
              "      <td>1.000000</td>\n",
              "    </tr>\n",
              "  </tbody>\n",
              "</table>\n",
              "<p>8 rows × 101 columns</p>\n",
              "</div>\n",
              "    <div class=\"colab-df-buttons\">\n",
              "\n",
              "  <div class=\"colab-df-container\">\n",
              "    <button class=\"colab-df-convert\" onclick=\"convertToInteractive('df-c8525ece-601c-4759-8ac3-1f74e02ff43e')\"\n",
              "            title=\"Convert this dataframe to an interactive table.\"\n",
              "            style=\"display:none;\">\n",
              "\n",
              "  <svg xmlns=\"http://www.w3.org/2000/svg\" height=\"24px\" viewBox=\"0 -960 960 960\">\n",
              "    <path d=\"M120-120v-720h720v720H120Zm60-500h600v-160H180v160Zm220 220h160v-160H400v160Zm0 220h160v-160H400v160ZM180-400h160v-160H180v160Zm440 0h160v-160H620v160ZM180-180h160v-160H180v160Zm440 0h160v-160H620v160Z\"/>\n",
              "  </svg>\n",
              "    </button>\n",
              "\n",
              "  <style>\n",
              "    .colab-df-container {\n",
              "      display:flex;\n",
              "      gap: 12px;\n",
              "    }\n",
              "\n",
              "    .colab-df-convert {\n",
              "      background-color: #E8F0FE;\n",
              "      border: none;\n",
              "      border-radius: 50%;\n",
              "      cursor: pointer;\n",
              "      display: none;\n",
              "      fill: #1967D2;\n",
              "      height: 32px;\n",
              "      padding: 0 0 0 0;\n",
              "      width: 32px;\n",
              "    }\n",
              "\n",
              "    .colab-df-convert:hover {\n",
              "      background-color: #E2EBFA;\n",
              "      box-shadow: 0px 1px 2px rgba(60, 64, 67, 0.3), 0px 1px 3px 1px rgba(60, 64, 67, 0.15);\n",
              "      fill: #174EA6;\n",
              "    }\n",
              "\n",
              "    .colab-df-buttons div {\n",
              "      margin-bottom: 4px;\n",
              "    }\n",
              "\n",
              "    [theme=dark] .colab-df-convert {\n",
              "      background-color: #3B4455;\n",
              "      fill: #D2E3FC;\n",
              "    }\n",
              "\n",
              "    [theme=dark] .colab-df-convert:hover {\n",
              "      background-color: #434B5C;\n",
              "      box-shadow: 0px 1px 3px 1px rgba(0, 0, 0, 0.15);\n",
              "      filter: drop-shadow(0px 1px 2px rgba(0, 0, 0, 0.3));\n",
              "      fill: #FFFFFF;\n",
              "    }\n",
              "  </style>\n",
              "\n",
              "    <script>\n",
              "      const buttonEl =\n",
              "        document.querySelector('#df-c8525ece-601c-4759-8ac3-1f74e02ff43e button.colab-df-convert');\n",
              "      buttonEl.style.display =\n",
              "        google.colab.kernel.accessAllowed ? 'block' : 'none';\n",
              "\n",
              "      async function convertToInteractive(key) {\n",
              "        const element = document.querySelector('#df-c8525ece-601c-4759-8ac3-1f74e02ff43e');\n",
              "        const dataTable =\n",
              "          await google.colab.kernel.invokeFunction('convertToInteractive',\n",
              "                                                    [key], {});\n",
              "        if (!dataTable) return;\n",
              "\n",
              "        const docLinkHtml = 'Like what you see? Visit the ' +\n",
              "          '<a target=\"_blank\" href=https://colab.research.google.com/notebooks/data_table.ipynb>data table notebook</a>'\n",
              "          + ' to learn more about interactive tables.';\n",
              "        element.innerHTML = '';\n",
              "        dataTable['output_type'] = 'display_data';\n",
              "        await google.colab.output.renderOutput(dataTable, element);\n",
              "        const docLink = document.createElement('div');\n",
              "        docLink.innerHTML = docLinkHtml;\n",
              "        element.appendChild(docLink);\n",
              "      }\n",
              "    </script>\n",
              "  </div>\n",
              "\n",
              "\n",
              "<div id=\"df-87f776d6-e687-4e60-a102-9b21d5a0b56c\">\n",
              "  <button class=\"colab-df-quickchart\" onclick=\"quickchart('df-87f776d6-e687-4e60-a102-9b21d5a0b56c')\"\n",
              "            title=\"Suggest charts\"\n",
              "            style=\"display:none;\">\n",
              "\n",
              "<svg xmlns=\"http://www.w3.org/2000/svg\" height=\"24px\"viewBox=\"0 0 24 24\"\n",
              "     width=\"24px\">\n",
              "    <g>\n",
              "        <path d=\"M19 3H5c-1.1 0-2 .9-2 2v14c0 1.1.9 2 2 2h14c1.1 0 2-.9 2-2V5c0-1.1-.9-2-2-2zM9 17H7v-7h2v7zm4 0h-2V7h2v10zm4 0h-2v-4h2v4z\"/>\n",
              "    </g>\n",
              "</svg>\n",
              "  </button>\n",
              "\n",
              "<style>\n",
              "  .colab-df-quickchart {\n",
              "      --bg-color: #E8F0FE;\n",
              "      --fill-color: #1967D2;\n",
              "      --hover-bg-color: #E2EBFA;\n",
              "      --hover-fill-color: #174EA6;\n",
              "      --disabled-fill-color: #AAA;\n",
              "      --disabled-bg-color: #DDD;\n",
              "  }\n",
              "\n",
              "  [theme=dark] .colab-df-quickchart {\n",
              "      --bg-color: #3B4455;\n",
              "      --fill-color: #D2E3FC;\n",
              "      --hover-bg-color: #434B5C;\n",
              "      --hover-fill-color: #FFFFFF;\n",
              "      --disabled-bg-color: #3B4455;\n",
              "      --disabled-fill-color: #666;\n",
              "  }\n",
              "\n",
              "  .colab-df-quickchart {\n",
              "    background-color: var(--bg-color);\n",
              "    border: none;\n",
              "    border-radius: 50%;\n",
              "    cursor: pointer;\n",
              "    display: none;\n",
              "    fill: var(--fill-color);\n",
              "    height: 32px;\n",
              "    padding: 0;\n",
              "    width: 32px;\n",
              "  }\n",
              "\n",
              "  .colab-df-quickchart:hover {\n",
              "    background-color: var(--hover-bg-color);\n",
              "    box-shadow: 0 1px 2px rgba(60, 64, 67, 0.3), 0 1px 3px 1px rgba(60, 64, 67, 0.15);\n",
              "    fill: var(--button-hover-fill-color);\n",
              "  }\n",
              "\n",
              "  .colab-df-quickchart-complete:disabled,\n",
              "  .colab-df-quickchart-complete:disabled:hover {\n",
              "    background-color: var(--disabled-bg-color);\n",
              "    fill: var(--disabled-fill-color);\n",
              "    box-shadow: none;\n",
              "  }\n",
              "\n",
              "  .colab-df-spinner {\n",
              "    border: 2px solid var(--fill-color);\n",
              "    border-color: transparent;\n",
              "    border-bottom-color: var(--fill-color);\n",
              "    animation:\n",
              "      spin 1s steps(1) infinite;\n",
              "  }\n",
              "\n",
              "  @keyframes spin {\n",
              "    0% {\n",
              "      border-color: transparent;\n",
              "      border-bottom-color: var(--fill-color);\n",
              "      border-left-color: var(--fill-color);\n",
              "    }\n",
              "    20% {\n",
              "      border-color: transparent;\n",
              "      border-left-color: var(--fill-color);\n",
              "      border-top-color: var(--fill-color);\n",
              "    }\n",
              "    30% {\n",
              "      border-color: transparent;\n",
              "      border-left-color: var(--fill-color);\n",
              "      border-top-color: var(--fill-color);\n",
              "      border-right-color: var(--fill-color);\n",
              "    }\n",
              "    40% {\n",
              "      border-color: transparent;\n",
              "      border-right-color: var(--fill-color);\n",
              "      border-top-color: var(--fill-color);\n",
              "    }\n",
              "    60% {\n",
              "      border-color: transparent;\n",
              "      border-right-color: var(--fill-color);\n",
              "    }\n",
              "    80% {\n",
              "      border-color: transparent;\n",
              "      border-right-color: var(--fill-color);\n",
              "      border-bottom-color: var(--fill-color);\n",
              "    }\n",
              "    90% {\n",
              "      border-color: transparent;\n",
              "      border-bottom-color: var(--fill-color);\n",
              "    }\n",
              "  }\n",
              "</style>\n",
              "\n",
              "  <script>\n",
              "    async function quickchart(key) {\n",
              "      const quickchartButtonEl =\n",
              "        document.querySelector('#' + key + ' button');\n",
              "      quickchartButtonEl.disabled = true;  // To prevent multiple clicks.\n",
              "      quickchartButtonEl.classList.add('colab-df-spinner');\n",
              "      try {\n",
              "        const charts = await google.colab.kernel.invokeFunction(\n",
              "            'suggestCharts', [key], {});\n",
              "      } catch (error) {\n",
              "        console.error('Error during call to suggestCharts:', error);\n",
              "      }\n",
              "      quickchartButtonEl.classList.remove('colab-df-spinner');\n",
              "      quickchartButtonEl.classList.add('colab-df-quickchart-complete');\n",
              "    }\n",
              "    (() => {\n",
              "      let quickchartButtonEl =\n",
              "        document.querySelector('#df-87f776d6-e687-4e60-a102-9b21d5a0b56c button');\n",
              "      quickchartButtonEl.style.display =\n",
              "        google.colab.kernel.accessAllowed ? 'block' : 'none';\n",
              "    })();\n",
              "  </script>\n",
              "</div>\n",
              "\n",
              "    </div>\n",
              "  </div>\n"
            ],
            "application/vnd.google.colaboratory.intrinsic+json": {
              "type": "dataframe"
            }
          },
          "metadata": {},
          "execution_count": 5
        }
      ]
    },
    {
      "cell_type": "markdown",
      "source": [
        "## **Data Visualization**"
      ],
      "metadata": {
        "id": "iwI7hAqjDCiD"
      }
    },
    {
      "cell_type": "code",
      "source": [
        "import matplotlib.pyplot as plt"
      ],
      "metadata": {
        "id": "DlY_s4JsDNVb"
      },
      "execution_count": 40,
      "outputs": []
    },
    {
      "cell_type": "code",
      "source": [
        "plt.plot(X.iloc[0,:])\n",
        "plt.title('Valley')"
      ],
      "metadata": {
        "colab": {
          "base_uri": "https://localhost:8080/",
          "height": 469
        },
        "collapsed": true,
        "id": "06UDC9GUDNxs",
        "outputId": "d32f13ea-5528-4e15-a7b4-11653b941ee4"
      },
      "execution_count": 41,
      "outputs": [
        {
          "output_type": "execute_result",
          "data": {
            "text/plain": [
              "Text(0.5, 1.0, 'Valley')"
            ]
          },
          "metadata": {},
          "execution_count": 41
        },
        {
          "output_type": "display_data",
          "data": {
            "text/plain": [
              "<Figure size 640x480 with 1 Axes>"
            ],
            "image/png": "[encoded data removed]"
          },
          "metadata": {}
        }
      ]
    },
    {
      "cell_type": "markdown",
      "source": [
        "## **Data Preprocessing**"
      ],
      "metadata": {
        "id": "3Gt8NR6Z0-vw"
      }
    },
    {
      "cell_type": "code",
      "source": [
        "df.columns"
      ],
      "metadata": {
        "colab": {
          "base_uri": "https://localhost:8080/"
        },
        "id": "ugRlVCvG1CEY",
        "outputId": "9f3367a0-3551-4614-d8a0-fb5bcf1f3708"
      },
      "execution_count": 9,
      "outputs": [
        {
          "output_type": "execute_result",
          "data": {
            "text/plain": [
              "Index(['V1', 'V2', 'V3', 'V4', 'V5', 'V6', 'V7', 'V8', 'V9', 'V10',\n",
              "       ...\n",
              "       'V92', 'V93', 'V94', 'V95', 'V96', 'V97', 'V98', 'V99', 'V100',\n",
              "       'Class'],\n",
              "      dtype='object', length=101)"
            ]
          },
          "metadata": {},
          "execution_count": 9
        }
      ]
    },
    {
      "cell_type": "code",
      "source": [
        "print(df.columns.tolist())"
      ],
      "metadata": {
        "colab": {
          "base_uri": "https://localhost:8080/"
        },
        "id": "w1nRQw461Pg4",
        "outputId": "1d4a4995-e818-440c-ade2-155cc4aa0bc5"
      },
      "execution_count": 11,
      "outputs": [
        {
          "output_type": "stream",
          "name": "stdout",
          "text": [
            "['V1', 'V2', 'V3', 'V4', 'V5', 'V6', 'V7', 'V8', 'V9', 'V10', 'V11', 'V12', 'V13', 'V14', 'V15', 'V16', 'V17', 'V18', 'V19', 'V20', 'V21', 'V22', 'V23', 'V24', 'V25', 'V26', 'V27', 'V28', 'V29', 'V30', 'V31', 'V32', 'V33', 'V34', 'V35', 'V36', 'V37', 'V38', 'V39', 'V40', 'V41', 'V42', 'V43', 'V44', 'V45', 'V46', 'V47', 'V48', 'V49', 'V50', 'V51', 'V52', 'V53', 'V54', 'V55', 'V56', 'V57', 'V58', 'V59', 'V60', 'V61', 'V62', 'V63', 'V64', 'V65', 'V66', 'V67', 'V68', 'V69', 'V70', 'V71', 'V72', 'V73', 'V74', 'V75', 'V76', 'V77', 'V78', 'V79', 'V80', 'V81', 'V82', 'V83', 'V84', 'V85', 'V86', 'V87', 'V88', 'V89', 'V90', 'V91', 'V92', 'V93', 'V94', 'V95', 'V96', 'V97', 'V98', 'V99', 'V100', 'Class']\n"
          ]
        }
      ]
    },
    {
      "cell_type": "code",
      "source": [
        "df.shape"
      ],
      "metadata": {
        "colab": {
          "base_uri": "https://localhost:8080/"
        },
        "id": "CpoCt72239CA",
        "outputId": "8b89bd64-bd2a-45b5-fbba-79819e643533"
      },
      "execution_count": 12,
      "outputs": [
        {
          "output_type": "execute_result",
          "data": {
            "text/plain": [
              "(1212, 101)"
            ]
          },
          "metadata": {},
          "execution_count": 12
        }
      ]
    },
    {
      "cell_type": "code",
      "source": [
        "df['Class'].value_counts()"
      ],
      "metadata": {
        "colab": {
          "base_uri": "https://localhost:8080/"
        },
        "id": "0VWAJCVLE6Dj",
        "outputId": "71effbf0-09a3-46dd-b9a5-d096b196d6ff"
      },
      "execution_count": 42,
      "outputs": [
        {
          "output_type": "execute_result",
          "data": {
            "text/plain": [
              "Class\n",
              "0    606\n",
              "1    606\n",
              "Name: count, dtype: int64"
            ]
          },
          "metadata": {},
          "execution_count": 42
        }
      ]
    },
    {
      "cell_type": "code",
      "source": [
        "df.groupby('Class').mean()"
      ],
      "metadata": {
        "colab": {
          "base_uri": "https://localhost:8080/",
          "height": 193
        },
        "collapsed": true,
        "id": "NHqEq2SuE6PD",
        "outputId": "eaccc7d4-e86e-4d95-dc73-ae3159ad7c2c"
      },
      "execution_count": 43,
      "outputs": [
        {
          "output_type": "execute_result",
          "data": {
            "text/plain": [
              "                V1           V2           V3           V4           V5  \\\n",
              "Class                                                                    \n",
              "0      7913.333251  7825.339967  7902.497294  7857.032079  7775.610198   \n",
              "1      8424.850512  8463.272558  8482.810182  8496.705396  8480.984224   \n",
              "\n",
              "                V6           V7           V8           V9          V10  ...  \\\n",
              "Class                                                                   ...   \n",
              "0      7875.436337  7804.166584  7722.324802  7793.328416  7686.782046  ...   \n",
              "1      8470.623680  8572.998911  8644.958284  8516.011716  8554.753102  ...   \n",
              "\n",
              "               V91          V92          V93          V94          V95  \\\n",
              "Class                                                                    \n",
              "0      7753.427244  7737.843366  7799.332079  7825.211700  7791.354010   \n",
              "1      8478.513399  8502.270264  8452.502739  8492.375924  8490.416832   \n",
              "\n",
              "               V96          V97          V98          V99         V100  \n",
              "Class                                                                   \n",
              "0      7927.237112  7874.502343  7844.227459  7875.338713  7855.181172  \n",
              "1      8499.724109  8496.685660  8436.163251  8510.583069  8457.213581  \n",
              "\n",
              "[2 rows x 100 columns]"
            ],
            "text/html": [
              "\n",
              "  <div id=\"df-978386ff-077a-4cd6-8119-e2f80730fff1\" class=\"colab-df-container\">\n",
              "    <div>\n",
              "<style scoped>\n",
              "    .dataframe tbody tr th:only-of-type {\n",
              "        vertical-align: middle;\n",
              "    }\n",
              "\n",
              "    .dataframe tbody tr th {\n",
              "        vertical-align: top;\n",
              "    }\n",
              "\n",
              "    .dataframe thead th {\n",
              "        text-align: right;\n",
              "    }\n",
              "</style>\n",
              "<table border=\"1\" class=\"dataframe\">\n",
              "  <thead>\n",
              "    <tr style=\"text-align: right;\">\n",
              "      <th></th>\n",
              "      <th>V1</th>\n",
              "      <th>V2</th>\n",
              "      <th>V3</th>\n",
              "      <th>V4</th>\n",
              "      <th>V5</th>\n",
              "      <th>V6</th>\n",
              "      <th>V7</th>\n",
              "      <th>V8</th>\n",
              "      <th>V9</th>\n",
              "      <th>V10</th>\n",
              "      <th>...</th>\n",
              "      <th>V91</th>\n",
              "      <th>V92</th>\n",
              "      <th>V93</th>\n",
              "      <th>V94</th>\n",
              "      <th>V95</th>\n",
              "      <th>V96</th>\n",
              "      <th>V97</th>\n",
              "      <th>V98</th>\n",
              "      <th>V99</th>\n",
              "      <th>V100</th>\n",
              "    </tr>\n",
              "    <tr>\n",
              "      <th>Class</th>\n",
              "      <th></th>\n",
              "      <th></th>\n",
              "      <th></th>\n",
              "      <th></th>\n",
              "      <th></th>\n",
              "      <th></th>\n",
              "      <th></th>\n",
              "      <th></th>\n",
              "      <th></th>\n",
              "      <th></th>\n",
              "      <th></th>\n",
              "      <th></th>\n",
              "      <th></th>\n",
              "      <th></th>\n",
              "      <th></th>\n",
              "      <th></th>\n",
              "      <th></th>\n",
              "      <th></th>\n",
              "      <th></th>\n",
              "      <th></th>\n",
              "      <th></th>\n",
              "    </tr>\n",
              "  </thead>\n",
              "  <tbody>\n",
              "    <tr>\n",
              "      <th>0</th>\n",
              "      <td>7913.333251</td>\n",
              "      <td>7825.339967</td>\n",
              "      <td>7902.497294</td>\n",
              "      <td>7857.032079</td>\n",
              "      <td>7775.610198</td>\n",
              "      <td>7875.436337</td>\n",
              "      <td>7804.166584</td>\n",
              "      <td>7722.324802</td>\n",
              "      <td>7793.328416</td>\n",
              "      <td>7686.782046</td>\n",
              "      <td>...</td>\n",
              "      <td>7753.427244</td>\n",
              "      <td>7737.843366</td>\n",
              "      <td>7799.332079</td>\n",
              "      <td>7825.211700</td>\n",
              "      <td>7791.354010</td>\n",
              "      <td>7927.237112</td>\n",
              "      <td>7874.502343</td>\n",
              "      <td>7844.227459</td>\n",
              "      <td>7875.338713</td>\n",
              "      <td>7855.181172</td>\n",
              "    </tr>\n",
              "    <tr>\n",
              "      <th>1</th>\n",
              "      <td>8424.850512</td>\n",
              "      <td>8463.272558</td>\n",
              "      <td>8482.810182</td>\n",
              "      <td>8496.705396</td>\n",
              "      <td>8480.984224</td>\n",
              "      <td>8470.623680</td>\n",
              "      <td>8572.998911</td>\n",
              "      <td>8644.958284</td>\n",
              "      <td>8516.011716</td>\n",
              "      <td>8554.753102</td>\n",
              "      <td>...</td>\n",
              "      <td>8478.513399</td>\n",
              "      <td>8502.270264</td>\n",
              "      <td>8452.502739</td>\n",
              "      <td>8492.375924</td>\n",
              "      <td>8490.416832</td>\n",
              "      <td>8499.724109</td>\n",
              "      <td>8496.685660</td>\n",
              "      <td>8436.163251</td>\n",
              "      <td>8510.583069</td>\n",
              "      <td>8457.213581</td>\n",
              "    </tr>\n",
              "  </tbody>\n",
              "</table>\n",
              "<p>2 rows × 100 columns</p>\n",
              "</div>\n",
              "    <div class=\"colab-df-buttons\">\n",
              "\n",
              "  <div class=\"colab-df-container\">\n",
              "    <button class=\"colab-df-convert\" onclick=\"convertToInteractive('df-978386ff-077a-4cd6-8119-e2f80730fff1')\"\n",
              "            title=\"Convert this dataframe to an interactive table.\"\n",
              "            style=\"display:none;\">\n",
              "\n",
              "  <svg xmlns=\"http://www.w3.org/2000/svg\" height=\"24px\" viewBox=\"0 -960 960 960\">\n",
              "    <path d=\"M120-120v-720h720v720H120Zm60-500h600v-160H180v160Zm220 220h160v-160H400v160Zm0 220h160v-160H400v160ZM180-400h160v-160H180v160Zm440 0h160v-160H620v160ZM180-180h160v-160H180v160Zm440 0h160v-160H620v160Z\"/>\n",
              "  </svg>\n",
              "    </button>\n",
              "\n",
              "  <style>\n",
              "    .colab-df-container {\n",
              "      display:flex;\n",
              "      gap: 12px;\n",
              "    }\n",
              "\n",
              "    .colab-df-convert {\n",
              "      background-color: #E8F0FE;\n",
              "      border: none;\n",
              "      border-radius: 50%;\n",
              "      cursor: pointer;\n",
              "      display: none;\n",
              "      fill: #1967D2;\n",
              "      height: 32px;\n",
              "      padding: 0 0 0 0;\n",
              "      width: 32px;\n",
              "    }\n",
              "\n",
              "    .colab-df-convert:hover {\n",
              "      background-color: #E2EBFA;\n",
              "      box-shadow: 0px 1px 2px rgba(60, 64, 67, 0.3), 0px 1px 3px 1px rgba(60, 64, 67, 0.15);\n",
              "      fill: #174EA6;\n",
              "    }\n",
              "\n",
              "    .colab-df-buttons div {\n",
              "      margin-bottom: 4px;\n",
              "    }\n",
              "\n",
              "    [theme=dark] .colab-df-convert {\n",
              "      background-color: #3B4455;\n",
              "      fill: #D2E3FC;\n",
              "    }\n",
              "\n",
              "    [theme=dark] .colab-df-convert:hover {\n",
              "      background-color: #434B5C;\n",
              "      box-shadow: 0px 1px 3px 1px rgba(0, 0, 0, 0.15);\n",
              "      filter: drop-shadow(0px 1px 2px rgba(0, 0, 0, 0.3));\n",
              "      fill: #FFFFFF;\n",
              "    }\n",
              "  </style>\n",
              "\n",
              "    <script>\n",
              "      const buttonEl =\n",
              "        document.querySelector('#df-978386ff-077a-4cd6-8119-e2f80730fff1 button.colab-df-convert');\n",
              "      buttonEl.style.display =\n",
              "        google.colab.kernel.accessAllowed ? 'block' : 'none';\n",
              "\n",
              "      async function convertToInteractive(key) {\n",
              "        const element = document.querySelector('#df-978386ff-077a-4cd6-8119-e2f80730fff1');\n",
              "        const dataTable =\n",
              "          await google.colab.kernel.invokeFunction('convertToInteractive',\n",
              "                                                    [key], {});\n",
              "        if (!dataTable) return;\n",
              "\n",
              "        const docLinkHtml = 'Like what you see? Visit the ' +\n",
              "          '<a target=\"_blank\" href=https://colab.research.google.com/notebooks/data_table.ipynb>data table notebook</a>'\n",
              "          + ' to learn more about interactive tables.';\n",
              "        element.innerHTML = '';\n",
              "        dataTable['output_type'] = 'display_data';\n",
              "        await google.colab.output.renderOutput(dataTable, element);\n",
              "        const docLink = document.createElement('div');\n",
              "        docLink.innerHTML = docLinkHtml;\n",
              "        element.appendChild(docLink);\n",
              "      }\n",
              "    </script>\n",
              "  </div>\n",
              "\n",
              "\n",
              "<div id=\"df-49b83fa5-a9fb-4022-87b5-a895cbf8fe10\">\n",
              "  <button class=\"colab-df-quickchart\" onclick=\"quickchart('df-49b83fa5-a9fb-4022-87b5-a895cbf8fe10')\"\n",
              "            title=\"Suggest charts\"\n",
              "            style=\"display:none;\">\n",
              "\n",
              "<svg xmlns=\"http://www.w3.org/2000/svg\" height=\"24px\"viewBox=\"0 0 24 24\"\n",
              "     width=\"24px\">\n",
              "    <g>\n",
              "        <path d=\"M19 3H5c-1.1 0-2 .9-2 2v14c0 1.1.9 2 2 2h14c1.1 0 2-.9 2-2V5c0-1.1-.9-2-2-2zM9 17H7v-7h2v7zm4 0h-2V7h2v10zm4 0h-2v-4h2v4z\"/>\n",
              "    </g>\n",
              "</svg>\n",
              "  </button>\n",
              "\n",
              "<style>\n",
              "  .colab-df-quickchart {\n",
              "      --bg-color: #E8F0FE;\n",
              "      --fill-color: #1967D2;\n",
              "      --hover-bg-color: #E2EBFA;\n",
              "      --hover-fill-color: #174EA6;\n",
              "      --disabled-fill-color: #AAA;\n",
              "      --disabled-bg-color: #DDD;\n",
              "  }\n",
              "\n",
              "  [theme=dark] .colab-df-quickchart {\n",
              "      --bg-color: #3B4455;\n",
              "      --fill-color: #D2E3FC;\n",
              "      --hover-bg-color: #434B5C;\n",
              "      --hover-fill-color: #FFFFFF;\n",
              "      --disabled-bg-color: #3B4455;\n",
              "      --disabled-fill-color: #666;\n",
              "  }\n",
              "\n",
              "  .colab-df-quickchart {\n",
              "    background-color: var(--bg-color);\n",
              "    border: none;\n",
              "    border-radius: 50%;\n",
              "    cursor: pointer;\n",
              "    display: none;\n",
              "    fill: var(--fill-color);\n",
              "    height: 32px;\n",
              "    padding: 0;\n",
              "    width: 32px;\n",
              "  }\n",
              "\n",
              "  .colab-df-quickchart:hover {\n",
              "    background-color: var(--hover-bg-color);\n",
              "    box-shadow: 0 1px 2px rgba(60, 64, 67, 0.3), 0 1px 3px 1px rgba(60, 64, 67, 0.15);\n",
              "    fill: var(--button-hover-fill-color);\n",
              "  }\n",
              "\n",
              "  .colab-df-quickchart-complete:disabled,\n",
              "  .colab-df-quickchart-complete:disabled:hover {\n",
              "    background-color: var(--disabled-bg-color);\n",
              "    fill: var(--disabled-fill-color);\n",
              "    box-shadow: none;\n",
              "  }\n",
              "\n",
              "  .colab-df-spinner {\n",
              "    border: 2px solid var(--fill-color);\n",
              "    border-color: transparent;\n",
              "    border-bottom-color: var(--fill-color);\n",
              "    animation:\n",
              "      spin 1s steps(1) infinite;\n",
              "  }\n",
              "\n",
              "  @keyframes spin {\n",
              "    0% {\n",
              "      border-color: transparent;\n",
              "      border-bottom-color: var(--fill-color);\n",
              "      border-left-color: var(--fill-color);\n",
              "    }\n",
              "    20% {\n",
              "      border-color: transparent;\n",
              "      border-left-color: var(--fill-color);\n",
              "      border-top-color: var(--fill-color);\n",
              "    }\n",
              "    30% {\n",
              "      border-color: transparent;\n",
              "      border-left-color: var(--fill-color);\n",
              "      border-top-color: var(--fill-color);\n",
              "      border-right-color: var(--fill-color);\n",
              "    }\n",
              "    40% {\n",
              "      border-color: transparent;\n",
              "      border-right-color: var(--fill-color);\n",
              "      border-top-color: var(--fill-color);\n",
              "    }\n",
              "    60% {\n",
              "      border-color: transparent;\n",
              "      border-right-color: var(--fill-color);\n",
              "    }\n",
              "    80% {\n",
              "      border-color: transparent;\n",
              "      border-right-color: var(--fill-color);\n",
              "      border-bottom-color: var(--fill-color);\n",
              "    }\n",
              "    90% {\n",
              "      border-color: transparent;\n",
              "      border-bottom-color: var(--fill-color);\n",
              "    }\n",
              "  }\n",
              "</style>\n",
              "\n",
              "  <script>\n",
              "    async function quickchart(key) {\n",
              "      const quickchartButtonEl =\n",
              "        document.querySelector('#' + key + ' button');\n",
              "      quickchartButtonEl.disabled = true;  // To prevent multiple clicks.\n",
              "      quickchartButtonEl.classList.add('colab-df-spinner');\n",
              "      try {\n",
              "        const charts = await google.colab.kernel.invokeFunction(\n",
              "            'suggestCharts', [key], {});\n",
              "      } catch (error) {\n",
              "        console.error('Error during call to suggestCharts:', error);\n",
              "      }\n",
              "      quickchartButtonEl.classList.remove('colab-df-spinner');\n",
              "      quickchartButtonEl.classList.add('colab-df-quickchart-complete');\n",
              "    }\n",
              "    (() => {\n",
              "      let quickchartButtonEl =\n",
              "        document.querySelector('#df-49b83fa5-a9fb-4022-87b5-a895cbf8fe10 button');\n",
              "      quickchartButtonEl.style.display =\n",
              "        google.colab.kernel.accessAllowed ? 'block' : 'none';\n",
              "    })();\n",
              "  </script>\n",
              "</div>\n",
              "\n",
              "    </div>\n",
              "  </div>\n"
            ],
            "application/vnd.google.colaboratory.intrinsic+json": {
              "type": "dataframe"
            }
          },
          "metadata": {},
          "execution_count": 43
        }
      ]
    },
    {
      "cell_type": "markdown",
      "source": [
        "## **Define Target Variable (y) and Feature Variables (X)**"
      ],
      "metadata": {
        "id": "0yDhB8aP4Q8P"
      }
    },
    {
      "cell_type": "code",
      "source": [
        "y=df['Class']\n",
        "y.shape"
      ],
      "metadata": {
        "colab": {
          "base_uri": "https://localhost:8080/"
        },
        "id": "w6ZGxO8y4T0n",
        "outputId": "1ce9e1cc-ce98-46c7-ca7a-7d59abfe0e04"
      },
      "execution_count": 44,
      "outputs": [
        {
          "output_type": "execute_result",
          "data": {
            "text/plain": [
              "(1212,)"
            ]
          },
          "metadata": {},
          "execution_count": 44
        }
      ]
    },
    {
      "cell_type": "code",
      "source": [
        "X=df[['V1', 'V2', 'V3', 'V4', 'V5', 'V6', 'V7', 'V8', 'V9', 'V10', 'V11', 'V12', 'V13', 'V14', 'V15', 'V16', 'V17', 'V18', 'V19', 'V20', 'V21', 'V22', 'V23', 'V24', 'V25', 'V26', 'V27', 'V28', 'V29', 'V30', 'V31', 'V32', 'V33', 'V34', 'V35', 'V36', 'V37', 'V38', 'V39', 'V40', 'V41', 'V42', 'V43', 'V44', 'V45', 'V46', 'V47', 'V48', 'V49', 'V50', 'V51', 'V52', 'V53', 'V54', 'V55', 'V56', 'V57', 'V58', 'V59', 'V60', 'V61', 'V62', 'V63', 'V64', 'V65', 'V66', 'V67', 'V68', 'V69', 'V70', 'V71', 'V72', 'V73', 'V74', 'V75', 'V76', 'V77', 'V78', 'V79', 'V80', 'V81', 'V82', 'V83', 'V84', 'V85', 'V86', 'V87', 'V88', 'V89', 'V90', 'V91', 'V92', 'V93', 'V94', 'V95', 'V96', 'V97', 'V98', 'V99', 'V100']]"
      ],
      "metadata": {
        "colab": {
          "base_uri": "https://localhost:8080/"
        },
        "id": "wunZPXa54-Dv",
        "outputId": "3bb5d205-8baf-4856-aee6-d1deeada319a"
      },
      "execution_count": 45,
      "outputs": [
        {
          "output_type": "execute_result",
          "data": {
            "text/plain": [
              "(1212, 100)"
            ]
          },
          "metadata": {},
          "execution_count": 45
        }
      ]
    },
    {
      "cell_type": "code",
      "source": [
        "from sklearn.preprocessing import StandardScaler"
      ],
      "metadata": {
        "id": "JxTfWsSaGa9z"
      },
      "execution_count": 56,
      "outputs": []
    },
    {
      "cell_type": "code",
      "source": [
        "m1=StandardScaler()"
      ],
      "metadata": {
        "id": "JsGUmxzcGbFi"
      },
      "execution_count": 57,
      "outputs": []
    },
    {
      "cell_type": "code",
      "source": [
        "X=m1.fit_transform(X)"
      ],
      "metadata": {
        "id": "g8Kw0pUvGmXC"
      },
      "execution_count": 58,
      "outputs": []
    },
    {
      "cell_type": "code",
      "source": [
        "X"
      ],
      "metadata": {
        "collapsed": true,
        "colab": {
          "base_uri": "https://localhost:8080/"
        },
        "id": "rMKTv5p8Gt96",
        "outputId": "7fcd0e9a-c283-47f6-88d0-83ae492a0a21"
      },
      "execution_count": 59,
      "outputs": [
        {
          "output_type": "execute_result",
          "data": {
            "text/plain": [
              "array([[-0.45248681, -0.45361784, -0.45100881, ..., -0.45609618,\n",
              "        -0.45164274, -0.45545496],\n",
              "       [-0.45455665, -0.45556372, -0.45302369, ..., -0.45821768,\n",
              "        -0.45362255, -0.45755405],\n",
              "       [ 3.33983504,  3.24466709,  3.58338069, ...,  3.5427869 ,\n",
              "         3.27907378,  3.74616847],\n",
              "       ...,\n",
              "       [ 0.11084204,  0.0505953 ,  0.04437307, ...,  0.12533312,\n",
              "         0.04456025,  0.06450317],\n",
              "       [-0.45272112, -0.45369729, -0.45118691, ..., -0.45648861,\n",
              "        -0.45190136, -0.45569511],\n",
              "       [ 0.01782872, -0.02636986,  0.05196137, ...,  0.03036056,\n",
              "         0.01087365,  0.03123129]])"
            ]
          },
          "metadata": {},
          "execution_count": 59
        }
      ]
    },
    {
      "cell_type": "code",
      "source": [
        "X.shape"
      ],
      "metadata": {
        "colab": {
          "base_uri": "https://localhost:8080/"
        },
        "id": "xf-Ns0HLGxqC",
        "outputId": "49458fe4-09a1-4ab3-87d3-adb18250f7b2"
      },
      "execution_count": 60,
      "outputs": [
        {
          "output_type": "execute_result",
          "data": {
            "text/plain": [
              "(1212, 100)"
            ]
          },
          "metadata": {},
          "execution_count": 60
        }
      ]
    },
    {
      "cell_type": "markdown",
      "source": [
        "##**Train Test Split**"
      ],
      "metadata": {
        "id": "YrtKjqeg5Q_u"
      }
    },
    {
      "cell_type": "code",
      "source": [
        "from sklearn.model_selection import train_test_split"
      ],
      "metadata": {
        "id": "3rOsXUMk5V1m"
      },
      "execution_count": 16,
      "outputs": []
    },
    {
      "cell_type": "code",
      "source": [
        "X_train,X_test,y_train,y_test=train_test_split(X,y,train_size=0.7,random_state=2529)"
      ],
      "metadata": {
        "id": "VRpRtq8o5lou"
      },
      "execution_count": 46,
      "outputs": []
    },
    {
      "cell_type": "code",
      "source": [
        "X_train.shape,X_test.shape,y_train.shape,y_test.shape"
      ],
      "metadata": {
        "colab": {
          "base_uri": "https://localhost:8080/"
        },
        "id": "jg413gJO6DwO",
        "outputId": "d2425d3b-0511-40c3-ef89-08eb9b0ec061"
      },
      "execution_count": 47,
      "outputs": [
        {
          "output_type": "execute_result",
          "data": {
            "text/plain": [
              "((848, 100), (364, 100), (848,), (364,))"
            ]
          },
          "metadata": {},
          "execution_count": 47
        }
      ]
    },
    {
      "cell_type": "markdown",
      "source": [
        "## **Modeling**"
      ],
      "metadata": {
        "id": "wFHV1q_m6OEe"
      }
    },
    {
      "cell_type": "code",
      "source": [
        "from sklearn.linear_model import LogisticRegression"
      ],
      "metadata": {
        "id": "dScIqtSn6QA2"
      },
      "execution_count": 19,
      "outputs": []
    },
    {
      "cell_type": "code",
      "source": [
        "model=LogisticRegression(max_iter=8000)"
      ],
      "metadata": {
        "id": "pCflr2ZR6Y6O"
      },
      "execution_count": 48,
      "outputs": []
    },
    {
      "cell_type": "code",
      "source": [
        "model.fit(X_train,y_train)"
      ],
      "metadata": {
        "colab": {
          "base_uri": "https://localhost:8080/",
          "height": 74
        },
        "id": "aNY5p_SS6hGu",
        "outputId": "6783f668-a88c-47b8-e008-1125bde5723c"
      },
      "execution_count": 49,
      "outputs": [
        {
          "output_type": "execute_result",
          "data": {
            "text/plain": [
              "LogisticRegression(max_iter=8000)"
            ],
            "text/html": [
              "<style>#sk-container-id-6 {color: black;background-color: white;}#sk-container-id-6 pre{padding: 0;}#sk-container-id-6 div.sk-toggleable {background-color: white;}#sk-container-id-6 label.sk-toggleable__label {cursor: pointer;display: block;width: 100%;margin-bottom: 0;padding: 0.3em;box-sizing: border-box;text-align: center;}#sk-container-id-6 label.sk-toggleable__label-arrow:before {content: \"▸\";float: left;margin-right: 0.25em;color: #696969;}#sk-container-id-6 label.sk-toggleable__label-arrow:hover:before {color: black;}#sk-container-id-6 div.sk-estimator:hover label.sk-toggleable__label-arrow:before {color: black;}#sk-container-id-6 div.sk-toggleable__content {max-height: 0;max-width: 0;overflow: hidden;text-align: left;background-color: #f0f8ff;}#sk-container-id-6 div.sk-toggleable__content pre {margin: 0.2em;color: black;border-radius: 0.25em;background-color: #f0f8ff;}#sk-container-id-6 input.sk-toggleable__control:checked~div.sk-toggleable__content {max-height: 200px;max-width: 100%;overflow: auto;}#sk-container-id-6 input.sk-toggleable__control:checked~label.sk-toggleable__label-arrow:before {content: \"▾\";}#sk-container-id-6 div.sk-estimator input.sk-toggleable__control:checked~label.sk-toggleable__label {background-color: #d4ebff;}#sk-container-id-6 div.sk-label input.sk-toggleable__control:checked~label.sk-toggleable__label {background-color: #d4ebff;}#sk-container-id-6 input.sk-hidden--visually {border: 0;clip: rect(1px 1px 1px 1px);clip: rect(1px, 1px, 1px, 1px);height: 1px;margin: -1px;overflow: hidden;padding: 0;position: absolute;width: 1px;}#sk-container-id-6 div.sk-estimator {font-family: monospace;background-color: #f0f8ff;border: 1px dotted black;border-radius: 0.25em;box-sizing: border-box;margin-bottom: 0.5em;}#sk-container-id-6 div.sk-estimator:hover {background-color: #d4ebff;}#sk-container-id-6 div.sk-parallel-item::after {content: \"\";width: 100%;border-bottom: 1px solid gray;flex-grow: 1;}#sk-container-id-6 div.sk-label:hover label.sk-toggleable__label {background-color: #d4ebff;}#sk-container-id-6 div.sk-serial::before {content: \"\";position: absolute;border-left: 1px solid gray;box-sizing: border-box;top: 0;bottom: 0;left: 50%;z-index: 0;}#sk-container-id-6 div.sk-serial {display: flex;flex-direction: column;align-items: center;background-color: white;padding-right: 0.2em;padding-left: 0.2em;position: relative;}#sk-container-id-6 div.sk-item {position: relative;z-index: 1;}#sk-container-id-6 div.sk-parallel {display: flex;align-items: stretch;justify-content: center;background-color: white;position: relative;}#sk-container-id-6 div.sk-item::before, #sk-container-id-6 div.sk-parallel-item::before {content: \"\";position: absolute;border-left: 1px solid gray;box-sizing: border-box;top: 0;bottom: 0;left: 50%;z-index: -1;}#sk-container-id-6 div.sk-parallel-item {display: flex;flex-direction: column;z-index: 1;position: relative;background-color: white;}#sk-container-id-6 div.sk-parallel-item:first-child::after {align-self: flex-end;width: 50%;}#sk-container-id-6 div.sk-parallel-item:last-child::after {align-self: flex-start;width: 50%;}#sk-container-id-6 div.sk-parallel-item:only-child::after {width: 0;}#sk-container-id-6 div.sk-dashed-wrapped {border: 1px dashed gray;margin: 0 0.4em 0.5em 0.4em;box-sizing: border-box;padding-bottom: 0.4em;background-color: white;}#sk-container-id-6 div.sk-label label {font-family: monospace;font-weight: bold;display: inline-block;line-height: 1.2em;}#sk-container-id-6 div.sk-label-container {text-align: center;}#sk-container-id-6 div.sk-container {/* jupyter's `normalize.less` sets `[hidden] { display: none; }` but bootstrap.min.css set `[hidden] { display: none !important; }` so we also need the `!important` here to be able to override the default hidden behavior on the sphinx rendered scikit-learn.org. See: https://github.com/scikit-learn/scikit-learn/issues/21755 */display: inline-block !important;position: relative;}#sk-container-id-6 div.sk-text-repr-fallback {display: none;}</style><div id=\"sk-container-id-6\" class=\"sk-top-container\"><div class=\"sk-text-repr-fallback\"><pre>LogisticRegression(max_iter=8000)</pre><b>In a Jupyter environment, please rerun this cell to show the HTML representation or trust the notebook. <br />On GitHub, the HTML representation is unable to render, please try loading this page with nbviewer.org.</b></div><div class=\"sk-container\" hidden><div class=\"sk-item\"><div class=\"sk-estimator sk-toggleable\"><input class=\"sk-toggleable__control sk-hidden--visually\" id=\"sk-estimator-id-6\" type=\"checkbox\" checked><label for=\"sk-estimator-id-6\" class=\"sk-toggleable__label sk-toggleable__label-arrow\">LogisticRegression</label><div class=\"sk-toggleable__content\"><pre>LogisticRegression(max_iter=8000)</pre></div></div></div></div></div>"
            ]
          },
          "metadata": {},
          "execution_count": 49
        }
      ]
    },
    {
      "cell_type": "markdown",
      "source": [
        "## **Prediction**"
      ],
      "metadata": {
        "id": "yp3xkMqz7Q82"
      }
    },
    {
      "cell_type": "code",
      "source": [
        "y_pred=model.predict(X_test)"
      ],
      "metadata": {
        "id": "VuanqLCB7T9-"
      },
      "execution_count": 50,
      "outputs": []
    },
    {
      "cell_type": "code",
      "source": [
        "y_pred.shape"
      ],
      "metadata": {
        "colab": {
          "base_uri": "https://localhost:8080/"
        },
        "id": "1VI2Q9Zq7pfl",
        "outputId": "6f9cf26b-21dc-4429-f67e-5d7720155765"
      },
      "execution_count": 51,
      "outputs": [
        {
          "output_type": "execute_result",
          "data": {
            "text/plain": [
              "(364,)"
            ]
          },
          "metadata": {},
          "execution_count": 51
        }
      ]
    },
    {
      "cell_type": "code",
      "source": [
        "y_pred"
      ],
      "metadata": {
        "colab": {
          "base_uri": "https://localhost:8080/"
        },
        "id": "zvvQzMv27ry1",
        "outputId": "af5edfaa-7549-4641-f688-b367c53ed75c"
      },
      "execution_count": 52,
      "outputs": [
        {
          "output_type": "execute_result",
          "data": {
            "text/plain": [
              "array([1, 1, 0, 0, 1, 1, 0, 0, 0, 0, 0, 1, 1, 0, 0, 0, 1, 1, 0, 1, 1, 1,\n",
              "       1, 0, 1, 1, 0, 0, 1, 0, 1, 1, 1, 0, 1, 1, 1, 0, 1, 0, 0, 1, 1, 1,\n",
              "       1, 1, 0, 1, 0, 1, 0, 1, 1, 1, 0, 1, 0, 1, 1, 0, 1, 1, 0, 0, 1, 0,\n",
              "       0, 1, 0, 0, 0, 1, 0, 0, 1, 1, 1, 0, 0, 0, 0, 0, 0, 0, 0, 1, 0, 1,\n",
              "       0, 0, 1, 0, 0, 0, 0, 0, 0, 1, 1, 0, 0, 0, 1, 0, 1, 0, 1, 1, 1, 1,\n",
              "       0, 1, 1, 1, 1, 1, 1, 0, 1, 0, 1, 1, 0, 1, 0, 0, 1, 1, 1, 1, 0, 1,\n",
              "       1, 0, 1, 1, 0, 0, 0, 1, 0, 1, 0, 0, 0, 1, 0, 1, 1, 1, 1, 1, 1, 1,\n",
              "       0, 1, 0, 1, 0, 1, 1, 1, 0, 1, 0, 1, 0, 0, 0, 1, 1, 1, 1, 0, 0, 1,\n",
              "       0, 1, 0, 1, 0, 1, 1, 1, 1, 1, 1, 1, 0, 0, 0, 1, 0, 0, 0, 0, 0, 0,\n",
              "       1, 1, 0, 0, 0, 0, 1, 0, 1, 0, 0, 1, 1, 1, 0, 1, 0, 0, 1, 1, 1, 0,\n",
              "       1, 1, 1, 1, 1, 0, 0, 1, 1, 0, 1, 1, 0, 0, 0, 0, 0, 1, 0, 0, 1, 0,\n",
              "       0, 0, 1, 1, 0, 0, 1, 0, 1, 1, 0, 1, 1, 0, 1, 0, 0, 1, 0, 1, 0, 0,\n",
              "       0, 0, 0, 1, 1, 1, 1, 1, 0, 0, 1, 0, 1, 1, 0, 0, 0, 1, 0, 0, 1, 1,\n",
              "       1, 0, 1, 1, 0, 1, 0, 0, 0, 1, 0, 1, 0, 0, 0, 1, 0, 0, 0, 0, 0, 1,\n",
              "       1, 0, 0, 1, 1, 1, 0, 0, 1, 0, 1, 1, 1, 0, 0, 1, 0, 0, 1, 0, 1, 0,\n",
              "       1, 1, 0, 1, 1, 1, 1, 1, 1, 0, 1, 1, 1, 0, 1, 0, 1, 0, 0, 0, 0, 1,\n",
              "       0, 0, 1, 0, 0, 0, 0, 1, 0, 0, 1, 0])"
            ]
          },
          "metadata": {},
          "execution_count": 52
        }
      ]
    },
    {
      "cell_type": "markdown",
      "source": [
        "## **Model Evaluation**"
      ],
      "metadata": {
        "id": "xfEtw3PS9m3g"
      }
    },
    {
      "cell_type": "code",
      "source": [
        "from sklearn.metrics import confusion_matrix , classification_report"
      ],
      "metadata": {
        "id": "VS0D-2dy9p1G"
      },
      "execution_count": null,
      "outputs": []
    },
    {
      "cell_type": "code",
      "source": [
        "model.predict_proba(X_test)"
      ],
      "metadata": {
        "colab": {
          "base_uri": "https://localhost:8080/"
        },
        "collapsed": true,
        "id": "Ot0NyZkHBU5c",
        "outputId": "0be4bb3e-0d3d-48f7-c4fd-acdae4faf3f1"
      },
      "execution_count": 53,
      "outputs": [
        {
          "output_type": "execute_result",
          "data": {
            "text/plain": [
              "array([[0.00000000e+000, 1.00000000e+000],\n",
              "       [0.00000000e+000, 1.00000000e+000],\n",
              "       [1.00000000e+000, 0.00000000e+000],\n",
              "       [1.00000000e+000, 0.00000000e+000],\n",
              "       [0.00000000e+000, 1.00000000e+000],\n",
              "       [9.90745221e-002, 9.00925478e-001],\n",
              "       [9.99939582e-001, 6.04178156e-005],\n",
              "       [9.90396087e-001, 9.60391293e-003],\n",
              "       [1.00000000e+000, 4.23114925e-164],\n",
              "       [8.84411091e-001, 1.15588909e-001],\n",
              "       [1.00000000e+000, 2.74053601e-042],\n",
              "       [2.53721407e-001, 7.46278593e-001],\n",
              "       [0.00000000e+000, 1.00000000e+000],\n",
              "       [7.94550361e-001, 2.05449639e-001],\n",
              "       [1.00000000e+000, 9.37105148e-048],\n",
              "       [1.00000000e+000, 4.01015669e-132],\n",
              "       [3.45224091e-001, 6.54775909e-001],\n",
              "       [0.00000000e+000, 1.00000000e+000],\n",
              "       [1.00000000e+000, 7.42732461e-011],\n",
              "       [3.89412481e-001, 6.10587519e-001],\n",
              "       [0.00000000e+000, 1.00000000e+000],\n",
              "       [0.00000000e+000, 1.00000000e+000],\n",
              "       [0.00000000e+000, 1.00000000e+000],\n",
              "       [9.99999984e-001, 1.56363627e-008],\n",
              "       [0.00000000e+000, 1.00000000e+000],\n",
              "       [0.00000000e+000, 1.00000000e+000],\n",
              "       [1.00000000e+000, 8.35189206e-153],\n",
              "       [1.00000000e+000, 2.54694700e-028],\n",
              "       [0.00000000e+000, 1.00000000e+000],\n",
              "       [9.99868385e-001, 1.31615167e-004],\n",
              "       [0.00000000e+000, 1.00000000e+000],\n",
              "       [3.63427054e-002, 9.63657295e-001],\n",
              "       [0.00000000e+000, 1.00000000e+000],\n",
              "       [9.14150586e-001, 8.58494139e-002],\n",
              "       [4.57528314e-001, 5.42471686e-001],\n",
              "       [0.00000000e+000, 1.00000000e+000],\n",
              "       [0.00000000e+000, 1.00000000e+000],\n",
              "       [9.82475067e-001, 1.75249333e-002],\n",
              "       [0.00000000e+000, 1.00000000e+000],\n",
              "       [1.00000000e+000, 1.16562691e-134],\n",
              "       [1.00000000e+000, 0.00000000e+000],\n",
              "       [0.00000000e+000, 1.00000000e+000],\n",
              "       [1.41787881e-004, 9.99858212e-001],\n",
              "       [0.00000000e+000, 1.00000000e+000],\n",
              "       [4.44089210e-016, 1.00000000e+000],\n",
              "       [0.00000000e+000, 1.00000000e+000],\n",
              "       [1.00000000e+000, 0.00000000e+000],\n",
              "       [0.00000000e+000, 1.00000000e+000],\n",
              "       [1.00000000e+000, 5.05887358e-050],\n",
              "       [2.99239809e-001, 7.00760191e-001],\n",
              "       [8.58744850e-001, 1.41255150e-001],\n",
              "       [0.00000000e+000, 1.00000000e+000],\n",
              "       [0.00000000e+000, 1.00000000e+000],\n",
              "       [2.06168299e-001, 7.93831701e-001],\n",
              "       [1.00000000e+000, 0.00000000e+000],\n",
              "       [0.00000000e+000, 1.00000000e+000],\n",
              "       [7.99711834e-001, 2.00288166e-001],\n",
              "       [7.98012868e-002, 9.20198713e-001],\n",
              "       [1.65198159e-006, 9.99998348e-001],\n",
              "       [8.99465477e-001, 1.00534523e-001],\n",
              "       [0.00000000e+000, 1.00000000e+000],\n",
              "       [3.91121378e-003, 9.96088786e-001],\n",
              "       [1.00000000e+000, 0.00000000e+000],\n",
              "       [1.00000000e+000, 0.00000000e+000],\n",
              "       [0.00000000e+000, 1.00000000e+000],\n",
              "       [9.99875613e-001, 1.24387427e-004],\n",
              "       [1.00000000e+000, 3.97554839e-016],\n",
              "       [4.09710544e-001, 5.90289456e-001],\n",
              "       [1.00000000e+000, 0.00000000e+000],\n",
              "       [1.00000000e+000, 1.03137814e-084],\n",
              "       [1.00000000e+000, 3.23545457e-015],\n",
              "       [0.00000000e+000, 1.00000000e+000],\n",
              "       [1.00000000e+000, 0.00000000e+000],\n",
              "       [1.00000000e+000, 0.00000000e+000],\n",
              "       [0.00000000e+000, 1.00000000e+000],\n",
              "       [5.96035849e-002, 9.40396415e-001],\n",
              "       [0.00000000e+000, 1.00000000e+000],\n",
              "       [1.00000000e+000, 0.00000000e+000],\n",
              "       [9.99970105e-001, 2.98949503e-005],\n",
              "       [7.83384292e-001, 2.16615708e-001],\n",
              "       [1.00000000e+000, 0.00000000e+000],\n",
              "       [1.00000000e+000, 0.00000000e+000],\n",
              "       [1.00000000e+000, 1.07337124e-145],\n",
              "       [1.00000000e+000, 0.00000000e+000],\n",
              "       [1.00000000e+000, 5.58761537e-038],\n",
              "       [0.00000000e+000, 1.00000000e+000],\n",
              "       [1.00000000e+000, 1.83967869e-069],\n",
              "       [0.00000000e+000, 1.00000000e+000],\n",
              "       [1.00000000e+000, 1.06193001e-016],\n",
              "       [1.00000000e+000, 7.09352936e-033],\n",
              "       [0.00000000e+000, 1.00000000e+000],\n",
              "       [1.00000000e+000, 0.00000000e+000],\n",
              "       [1.00000000e+000, 6.67377120e-041],\n",
              "       [1.00000000e+000, 4.69494068e-166],\n",
              "       [1.00000000e+000, 0.00000000e+000],\n",
              "       [1.00000000e+000, 8.35890350e-136],\n",
              "       [1.00000000e+000, 0.00000000e+000],\n",
              "       [0.00000000e+000, 1.00000000e+000],\n",
              "       [2.02377592e-008, 9.99999980e-001],\n",
              "       [9.99999985e-001, 1.50691890e-008],\n",
              "       [1.00000000e+000, 0.00000000e+000],\n",
              "       [1.00000000e+000, 2.49934560e-033],\n",
              "       [6.76299770e-005, 9.99932370e-001],\n",
              "       [8.13088801e-001, 1.86911199e-001],\n",
              "       [0.00000000e+000, 1.00000000e+000],\n",
              "       [1.00000000e+000, 0.00000000e+000],\n",
              "       [0.00000000e+000, 1.00000000e+000],\n",
              "       [0.00000000e+000, 1.00000000e+000],\n",
              "       [8.41766096e-004, 9.99158234e-001],\n",
              "       [0.00000000e+000, 1.00000000e+000],\n",
              "       [9.73833476e-001, 2.61665237e-002],\n",
              "       [0.00000000e+000, 1.00000000e+000],\n",
              "       [0.00000000e+000, 1.00000000e+000],\n",
              "       [3.53436793e-001, 6.46563207e-001],\n",
              "       [0.00000000e+000, 1.00000000e+000],\n",
              "       [0.00000000e+000, 1.00000000e+000],\n",
              "       [0.00000000e+000, 1.00000000e+000],\n",
              "       [1.00000000e+000, 3.85265321e-090],\n",
              "       [4.58246735e-001, 5.41753265e-001],\n",
              "       [8.06039069e-001, 1.93960931e-001],\n",
              "       [4.65593666e-003, 9.95344063e-001],\n",
              "       [0.00000000e+000, 1.00000000e+000],\n",
              "       [1.00000000e+000, 0.00000000e+000],\n",
              "       [0.00000000e+000, 1.00000000e+000],\n",
              "       [9.57847010e-001, 4.21529902e-002],\n",
              "       [9.99904673e-001, 9.53269814e-005],\n",
              "       [7.15132026e-003, 9.92848680e-001],\n",
              "       [0.00000000e+000, 1.00000000e+000],\n",
              "       [9.79062614e-005, 9.99902094e-001],\n",
              "       [0.00000000e+000, 1.00000000e+000],\n",
              "       [1.00000000e+000, 2.34606382e-010],\n",
              "       [1.90270022e-012, 1.00000000e+000],\n",
              "       [4.78922643e-001, 5.21077357e-001],\n",
              "       [9.07522297e-001, 9.24777032e-002],\n",
              "       [0.00000000e+000, 1.00000000e+000],\n",
              "       [0.00000000e+000, 1.00000000e+000],\n",
              "       [9.99984682e-001, 1.53184081e-005],\n",
              "       [5.00142945e-001, 4.99857055e-001],\n",
              "       [1.00000000e+000, 0.00000000e+000],\n",
              "       [0.00000000e+000, 1.00000000e+000],\n",
              "       [1.00000000e+000, 0.00000000e+000],\n",
              "       [0.00000000e+000, 1.00000000e+000],\n",
              "       [9.83971171e-001, 1.60288290e-002],\n",
              "       [9.99999589e-001, 4.10520954e-007],\n",
              "       [9.99970315e-001, 2.96847441e-005],\n",
              "       [0.00000000e+000, 1.00000000e+000],\n",
              "       [9.24395950e-001, 7.56040497e-002],\n",
              "       [0.00000000e+000, 1.00000000e+000],\n",
              "       [5.41714841e-003, 9.94582852e-001],\n",
              "       [4.66293670e-013, 1.00000000e+000],\n",
              "       [2.41140100e-001, 7.58859900e-001],\n",
              "       [0.00000000e+000, 1.00000000e+000],\n",
              "       [0.00000000e+000, 1.00000000e+000],\n",
              "       [0.00000000e+000, 1.00000000e+000],\n",
              "       [1.00000000e+000, 1.50193495e-265],\n",
              "       [0.00000000e+000, 1.00000000e+000],\n",
              "       [1.00000000e+000, 2.72277998e-068],\n",
              "       [4.25303362e-003, 9.95746966e-001],\n",
              "       [9.21627134e-001, 7.83728661e-002],\n",
              "       [1.44728294e-001, 8.55271706e-001],\n",
              "       [0.00000000e+000, 1.00000000e+000],\n",
              "       [0.00000000e+000, 1.00000000e+000],\n",
              "       [1.00000000e+000, 8.82297989e-036],\n",
              "       [0.00000000e+000, 1.00000000e+000],\n",
              "       [1.00000000e+000, 0.00000000e+000],\n",
              "       [1.62875316e-002, 9.83712468e-001],\n",
              "       [1.00000000e+000, 0.00000000e+000],\n",
              "       [1.00000000e+000, 0.00000000e+000],\n",
              "       [1.00000000e+000, 2.22758901e-030],\n",
              "       [0.00000000e+000, 1.00000000e+000],\n",
              "       [0.00000000e+000, 1.00000000e+000],\n",
              "       [0.00000000e+000, 1.00000000e+000],\n",
              "       [0.00000000e+000, 1.00000000e+000],\n",
              "       [9.99999866e-001, 1.34322464e-007],\n",
              "       [9.37047658e-001, 6.29523415e-002],\n",
              "       [7.28306304e-014, 1.00000000e+000],\n",
              "       [1.00000000e+000, 2.33956093e-154],\n",
              "       [0.00000000e+000, 1.00000000e+000],\n",
              "       [9.98323652e-001, 1.67634817e-003],\n",
              "       [0.00000000e+000, 1.00000000e+000],\n",
              "       [1.00000000e+000, 7.05893321e-013],\n",
              "       [0.00000000e+000, 1.00000000e+000],\n",
              "       [0.00000000e+000, 1.00000000e+000],\n",
              "       [1.98680778e-008, 9.99999980e-001],\n",
              "       [0.00000000e+000, 1.00000000e+000],\n",
              "       [0.00000000e+000, 1.00000000e+000],\n",
              "       [0.00000000e+000, 1.00000000e+000],\n",
              "       [4.51470421e-001, 5.48529579e-001],\n",
              "       [1.00000000e+000, 1.50573213e-011],\n",
              "       [9.99963477e-001, 3.65227038e-005],\n",
              "       [1.00000000e+000, 0.00000000e+000],\n",
              "       [3.09470941e-006, 9.99996905e-001],\n",
              "       [9.95370694e-001, 4.62930579e-003],\n",
              "       [1.00000000e+000, 0.00000000e+000],\n",
              "       [1.00000000e+000, 0.00000000e+000],\n",
              "       [9.12608911e-001, 8.73910891e-002],\n",
              "       [9.96843000e-001, 3.15699963e-003],\n",
              "       [6.66020197e-001, 3.33979803e-001],\n",
              "       [4.28458441e-001, 5.71541559e-001],\n",
              "       [1.40717990e-004, 9.99859282e-001],\n",
              "       [1.00000000e+000, 0.00000000e+000],\n",
              "       [1.00000000e+000, 8.71335435e-112],\n",
              "       [9.99998657e-001, 1.34312245e-006],\n",
              "       [1.00000000e+000, 9.44929305e-034],\n",
              "       [0.00000000e+000, 1.00000000e+000],\n",
              "       [1.00000000e+000, 2.41265650e-089],\n",
              "       [0.00000000e+000, 1.00000000e+000],\n",
              "       [1.00000000e+000, 1.27430105e-033],\n",
              "       [6.99931105e-001, 3.00068895e-001],\n",
              "       [0.00000000e+000, 1.00000000e+000],\n",
              "       [0.00000000e+000, 1.00000000e+000],\n",
              "       [6.27498054e-013, 1.00000000e+000],\n",
              "       [1.00000000e+000, 1.95720530e-208],\n",
              "       [2.59508566e-001, 7.40491434e-001],\n",
              "       [1.00000000e+000, 0.00000000e+000],\n",
              "       [1.00000000e+000, 2.81676922e-044],\n",
              "       [4.53012081e-001, 5.46987919e-001],\n",
              "       [7.70138032e-003, 9.92298620e-001],\n",
              "       [0.00000000e+000, 1.00000000e+000],\n",
              "       [1.00000000e+000, 0.00000000e+000],\n",
              "       [3.47229703e-001, 6.52770297e-001],\n",
              "       [2.21587191e-001, 7.78412809e-001],\n",
              "       [0.00000000e+000, 1.00000000e+000],\n",
              "       [1.34825393e-001, 8.65174607e-001],\n",
              "       [0.00000000e+000, 1.00000000e+000],\n",
              "       [1.00000000e+000, 6.97043448e-288],\n",
              "       [1.00000000e+000, 0.00000000e+000],\n",
              "       [0.00000000e+000, 1.00000000e+000],\n",
              "       [0.00000000e+000, 1.00000000e+000],\n",
              "       [1.00000000e+000, 0.00000000e+000],\n",
              "       [0.00000000e+000, 1.00000000e+000],\n",
              "       [0.00000000e+000, 1.00000000e+000],\n",
              "       [7.55454729e-001, 2.44545271e-001],\n",
              "       [9.99841235e-001, 1.58764612e-004],\n",
              "       [1.00000000e+000, 0.00000000e+000],\n",
              "       [7.19137324e-001, 2.80862676e-001],\n",
              "       [1.00000000e+000, 0.00000000e+000],\n",
              "       [7.40870157e-003, 9.92591298e-001],\n",
              "       [5.81237748e-001, 4.18762252e-001],\n",
              "       [1.00000000e+000, 1.84105306e-016],\n",
              "       [7.93702289e-005, 9.99920630e-001],\n",
              "       [1.00000000e+000, 0.00000000e+000],\n",
              "       [1.00000000e+000, 0.00000000e+000],\n",
              "       [9.94593866e-001, 5.40613360e-003],\n",
              "       [5.59217124e-002, 9.44078288e-001],\n",
              "       [0.00000000e+000, 1.00000000e+000],\n",
              "       [1.00000000e+000, 1.31641899e-011],\n",
              "       [1.00000000e+000, 3.35367096e-062],\n",
              "       [0.00000000e+000, 1.00000000e+000],\n",
              "       [1.00000000e+000, 1.44991182e-010],\n",
              "       [0.00000000e+000, 1.00000000e+000],\n",
              "       [2.23985016e-001, 7.76014984e-001],\n",
              "       [1.00000000e+000, 0.00000000e+000],\n",
              "       [0.00000000e+000, 1.00000000e+000],\n",
              "       [2.22044605e-016, 1.00000000e+000],\n",
              "       [9.82703069e-001, 1.72969312e-002],\n",
              "       [4.14911190e-002, 9.58508881e-001],\n",
              "       [1.00000000e+000, 4.21613003e-029],\n",
              "       [1.00000000e+000, 3.16639540e-049],\n",
              "       [0.00000000e+000, 1.00000000e+000],\n",
              "       [1.00000000e+000, 0.00000000e+000],\n",
              "       [0.00000000e+000, 1.00000000e+000],\n",
              "       [9.99994775e-001, 5.22531459e-006],\n",
              "       [1.00000000e+000, 1.61987669e-299],\n",
              "       [1.00000000e+000, 0.00000000e+000],\n",
              "       [9.28564800e-001, 7.14351997e-002],\n",
              "       [1.00000000e+000, 1.38702351e-052],\n",
              "       [0.00000000e+000, 1.00000000e+000],\n",
              "       [0.00000000e+000, 1.00000000e+000],\n",
              "       [0.00000000e+000, 1.00000000e+000],\n",
              "       [0.00000000e+000, 1.00000000e+000],\n",
              "       [0.00000000e+000, 1.00000000e+000],\n",
              "       [1.00000000e+000, 0.00000000e+000],\n",
              "       [9.99999999e-001, 1.33680158e-009],\n",
              "       [0.00000000e+000, 1.00000000e+000],\n",
              "       [8.25841751e-001, 1.74158249e-001],\n",
              "       [3.09033275e-001, 6.90966725e-001],\n",
              "       [0.00000000e+000, 1.00000000e+000],\n",
              "       [9.99999999e-001, 1.26028841e-009],\n",
              "       [9.65585651e-001, 3.44143490e-002],\n",
              "       [1.00000000e+000, 7.09353917e-020],\n",
              "       [7.52243038e-002, 9.24775696e-001],\n",
              "       [1.00000000e+000, 4.40875658e-100],\n",
              "       [1.00000000e+000, 0.00000000e+000],\n",
              "       [0.00000000e+000, 1.00000000e+000],\n",
              "       [0.00000000e+000, 1.00000000e+000],\n",
              "       [2.27354753e-001, 7.72645247e-001],\n",
              "       [1.00000000e+000, 0.00000000e+000],\n",
              "       [2.81287230e-001, 7.18712770e-001],\n",
              "       [0.00000000e+000, 1.00000000e+000],\n",
              "       [1.00000000e+000, 0.00000000e+000],\n",
              "       [0.00000000e+000, 1.00000000e+000],\n",
              "       [5.54731905e-001, 4.45268095e-001],\n",
              "       [9.98079663e-001, 1.92033693e-003],\n",
              "       [1.00000000e+000, 4.13222929e-039],\n",
              "       [0.00000000e+000, 1.00000000e+000],\n",
              "       [1.00000000e+000, 1.02082737e-035],\n",
              "       [0.00000000e+000, 1.00000000e+000],\n",
              "       [1.00000000e+000, 0.00000000e+000],\n",
              "       [1.00000000e+000, 7.61574715e-081],\n",
              "       [9.10792482e-001, 8.92075175e-002],\n",
              "       [0.00000000e+000, 1.00000000e+000],\n",
              "       [1.00000000e+000, 4.40228861e-010],\n",
              "       [1.00000000e+000, 0.00000000e+000],\n",
              "       [5.87411144e-001, 4.12588856e-001],\n",
              "       [1.00000000e+000, 1.79689508e-043],\n",
              "       [1.00000000e+000, 0.00000000e+000],\n",
              "       [0.00000000e+000, 1.00000000e+000],\n",
              "       [0.00000000e+000, 1.00000000e+000],\n",
              "       [1.00000000e+000, 0.00000000e+000],\n",
              "       [1.00000000e+000, 9.22325289e-249],\n",
              "       [0.00000000e+000, 1.00000000e+000],\n",
              "       [1.93359915e-001, 8.06640085e-001],\n",
              "       [2.74225087e-013, 1.00000000e+000],\n",
              "       [9.56233973e-001, 4.37660271e-002],\n",
              "       [8.24352068e-001, 1.75647932e-001],\n",
              "       [0.00000000e+000, 1.00000000e+000],\n",
              "       [7.32891396e-001, 2.67108604e-001],\n",
              "       [1.11870713e-009, 9.99999999e-001],\n",
              "       [4.14310885e-002, 9.58568911e-001],\n",
              "       [0.00000000e+000, 1.00000000e+000],\n",
              "       [9.40670034e-001, 5.93299662e-002],\n",
              "       [9.99999987e-001, 1.27605238e-008],\n",
              "       [0.00000000e+000, 1.00000000e+000],\n",
              "       [1.00000000e+000, 4.84613568e-078],\n",
              "       [1.00000000e+000, 0.00000000e+000],\n",
              "       [0.00000000e+000, 1.00000000e+000],\n",
              "       [1.00000000e+000, 0.00000000e+000],\n",
              "       [4.32046381e-001, 5.67953619e-001],\n",
              "       [9.78321523e-001, 2.16784765e-002],\n",
              "       [0.00000000e+000, 1.00000000e+000],\n",
              "       [0.00000000e+000, 1.00000000e+000],\n",
              "       [1.00000000e+000, 0.00000000e+000],\n",
              "       [0.00000000e+000, 1.00000000e+000],\n",
              "       [0.00000000e+000, 1.00000000e+000],\n",
              "       [6.26792509e-007, 9.99999373e-001],\n",
              "       [0.00000000e+000, 1.00000000e+000],\n",
              "       [0.00000000e+000, 1.00000000e+000],\n",
              "       [0.00000000e+000, 1.00000000e+000],\n",
              "       [7.40880464e-001, 2.59119536e-001],\n",
              "       [0.00000000e+000, 1.00000000e+000],\n",
              "       [5.65587334e-002, 9.43441267e-001],\n",
              "       [7.36675345e-006, 9.99992633e-001],\n",
              "       [1.00000000e+000, 1.66978484e-038],\n",
              "       [0.00000000e+000, 1.00000000e+000],\n",
              "       [9.99999986e-001, 1.36704536e-008],\n",
              "       [6.45832099e-009, 9.99999994e-001],\n",
              "       [7.63688551e-001, 2.36311449e-001],\n",
              "       [7.44404760e-001, 2.55595240e-001],\n",
              "       [1.00000000e+000, 0.00000000e+000],\n",
              "       [9.76591832e-001, 2.34081677e-002],\n",
              "       [0.00000000e+000, 1.00000000e+000],\n",
              "       [5.47047018e-001, 4.52952982e-001],\n",
              "       [1.00000000e+000, 0.00000000e+000],\n",
              "       [0.00000000e+000, 1.00000000e+000],\n",
              "       [1.00000000e+000, 5.16712316e-191],\n",
              "       [1.00000000e+000, 0.00000000e+000],\n",
              "       [9.92775708e-001, 7.22429216e-003],\n",
              "       [9.33952740e-001, 6.60472601e-002],\n",
              "       [0.00000000e+000, 1.00000000e+000],\n",
              "       [1.00000000e+000, 1.58077408e-016],\n",
              "       [1.00000000e+000, 0.00000000e+000],\n",
              "       [0.00000000e+000, 1.00000000e+000],\n",
              "       [1.00000000e+000, 5.02295751e-039]])"
            ]
          },
          "metadata": {},
          "execution_count": 53
        }
      ]
    },
    {
      "cell_type": "code",
      "source": [
        "print(confusion_matrix(y_test,y_pred))"
      ],
      "metadata": {
        "colab": {
          "base_uri": "https://localhost:8080/"
        },
        "collapsed": true,
        "id": "7z0NUUYZ9p93",
        "outputId": "76d2e292-8ef4-4e20-9917-307e8d777731"
      },
      "execution_count": 54,
      "outputs": [
        {
          "output_type": "stream",
          "name": "stdout",
          "text": [
            "[[174   6]\n",
            " [  7 177]]\n"
          ]
        }
      ]
    },
    {
      "cell_type": "code",
      "source": [
        "print(classification_report(y_test,y_pred))"
      ],
      "metadata": {
        "colab": {
          "base_uri": "https://localhost:8080/"
        },
        "id": "7nNoLNw39qFx",
        "outputId": "7421559e-f6ca-4205-d198-85c60c5efff9"
      },
      "execution_count": 55,
      "outputs": [
        {
          "output_type": "stream",
          "name": "stdout",
          "text": [
            "              precision    recall  f1-score   support\n",
            "\n",
            "           0       0.96      0.97      0.96       180\n",
            "           1       0.97      0.96      0.96       184\n",
            "\n",
            "    accuracy                           0.96       364\n",
            "   macro avg       0.96      0.96      0.96       364\n",
            "weighted avg       0.96      0.96      0.96       364\n",
            "\n"
          ]
        }
      ]
    },
    {
      "cell_type": "markdown",
      "source": [
        "## **Explaination**\n",
        "In this data prediction we first imported all the required librarires needed, then imported data, then we preprocessed the data according to our needs, then we defined Target Variable (y) and Feature Variables (X) , then spiltted the data (70% for training and 30% for testing the model), then chose the appropriate model according to the problem in this case it was a classification problem so we chose Logistic Regression, then we trained our model and in last predicted the target variable(Y). According to this model we achieved accuracy of 96%."
      ],
      "metadata": {
        "id": "TAbhq8lf__RN"
      }
    }
  ]
}